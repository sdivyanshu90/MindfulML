{
 "cells": [
  {
   "cell_type": "code",
   "execution_count": 1,
   "id": "5ad5e4c7-fe86-4b9a-bb1f-9e46823708f8",
   "metadata": {},
   "outputs": [
    {
     "name": "stdout",
     "output_type": "stream",
     "text": [
      "Successfully Imported Libraries!\n"
     ]
    }
   ],
   "source": [
    "import pandas as pd\n",
    "import numpy as np\n",
    "from sklearn.model_selection import train_test_split\n",
    "from sklearn.feature_extraction.text import CountVectorizer\n",
    "from sklearn.naive_bayes import MultinomialNB\n",
    "from sklearn.linear_model import SGDClassifier\n",
    "import nltk\n",
    "import re\n",
    "from nltk.corpus import stopwords\n",
    "import string\n",
    "\n",
    "import warnings\n",
    "warnings.filterwarnings(\"ignore\")\n",
    "warnings.simplefilter(\"ignore\")\n",
    "\n",
    "print(\"Successfully Imported Libraries!\")"
   ]
  },
  {
   "cell_type": "code",
   "execution_count": 2,
   "id": "d88b5ed3-7c97-4056-b238-48e69dbe9b3d",
   "metadata": {},
   "outputs": [],
   "source": [
    "data = pd.read_csv(\"consumer_complaints.csv\")"
   ]
  },
  {
   "cell_type": "code",
   "execution_count": 3,
   "id": "1462bdc1-f319-4974-bc15-215eb33d9ed4",
   "metadata": {},
   "outputs": [
    {
     "data": {
      "text/html": [
       "<div>\n",
       "<style scoped>\n",
       "    .dataframe tbody tr th:only-of-type {\n",
       "        vertical-align: middle;\n",
       "    }\n",
       "\n",
       "    .dataframe tbody tr th {\n",
       "        vertical-align: top;\n",
       "    }\n",
       "\n",
       "    .dataframe thead th {\n",
       "        text-align: right;\n",
       "    }\n",
       "</style>\n",
       "<table border=\"1\" class=\"dataframe\">\n",
       "  <thead>\n",
       "    <tr style=\"text-align: right;\">\n",
       "      <th></th>\n",
       "      <th>Unnamed: 0</th>\n",
       "      <th>Date received</th>\n",
       "      <th>Product</th>\n",
       "      <th>Sub-product</th>\n",
       "      <th>Issue</th>\n",
       "      <th>Sub-issue</th>\n",
       "      <th>Consumer complaint narrative</th>\n",
       "    </tr>\n",
       "  </thead>\n",
       "  <tbody>\n",
       "    <tr>\n",
       "      <th>0</th>\n",
       "      <td>0</td>\n",
       "      <td>2022-11-11</td>\n",
       "      <td>Mortgage</td>\n",
       "      <td>Conventional home mortgage</td>\n",
       "      <td>Trouble during payment process</td>\n",
       "      <td>NaN</td>\n",
       "      <td>NaN</td>\n",
       "    </tr>\n",
       "    <tr>\n",
       "      <th>1</th>\n",
       "      <td>1</td>\n",
       "      <td>2022-11-23</td>\n",
       "      <td>Credit reporting, credit repair services, or o...</td>\n",
       "      <td>Credit reporting</td>\n",
       "      <td>Improper use of your report</td>\n",
       "      <td>Reporting company used your report improperly</td>\n",
       "      <td>NaN</td>\n",
       "    </tr>\n",
       "    <tr>\n",
       "      <th>2</th>\n",
       "      <td>2</td>\n",
       "      <td>2022-11-16</td>\n",
       "      <td>Mortgage</td>\n",
       "      <td>VA mortgage</td>\n",
       "      <td>Trouble during payment process</td>\n",
       "      <td>NaN</td>\n",
       "      <td>NaN</td>\n",
       "    </tr>\n",
       "    <tr>\n",
       "      <th>3</th>\n",
       "      <td>3</td>\n",
       "      <td>2022-11-15</td>\n",
       "      <td>Checking or savings account</td>\n",
       "      <td>Checking account</td>\n",
       "      <td>Managing an account</td>\n",
       "      <td>Fee problem</td>\n",
       "      <td>Hi, I have been banking with Wells Fargo for o...</td>\n",
       "    </tr>\n",
       "    <tr>\n",
       "      <th>4</th>\n",
       "      <td>4</td>\n",
       "      <td>2022-11-07</td>\n",
       "      <td>Mortgage</td>\n",
       "      <td>Other type of mortgage</td>\n",
       "      <td>Trouble during payment process</td>\n",
       "      <td>NaN</td>\n",
       "      <td>NaN</td>\n",
       "    </tr>\n",
       "    <tr>\n",
       "      <th>...</th>\n",
       "      <td>...</td>\n",
       "      <td>...</td>\n",
       "      <td>...</td>\n",
       "      <td>...</td>\n",
       "      <td>...</td>\n",
       "      <td>...</td>\n",
       "      <td>...</td>\n",
       "    </tr>\n",
       "    <tr>\n",
       "      <th>566166</th>\n",
       "      <td>566166</td>\n",
       "      <td>2014-04-17</td>\n",
       "      <td>Credit reporting</td>\n",
       "      <td>NaN</td>\n",
       "      <td>Incorrect information on credit report</td>\n",
       "      <td>Information is not mine</td>\n",
       "      <td>NaN</td>\n",
       "    </tr>\n",
       "    <tr>\n",
       "      <th>566167</th>\n",
       "      <td>566167</td>\n",
       "      <td>2016-07-29</td>\n",
       "      <td>Credit reporting</td>\n",
       "      <td>NaN</td>\n",
       "      <td>Unable to get credit report/credit score</td>\n",
       "      <td>Problem getting my free annual report</td>\n",
       "      <td>NaN</td>\n",
       "    </tr>\n",
       "    <tr>\n",
       "      <th>566168</th>\n",
       "      <td>566168</td>\n",
       "      <td>2019-02-28</td>\n",
       "      <td>Credit reporting, credit repair services, or o...</td>\n",
       "      <td>Credit reporting</td>\n",
       "      <td>Incorrect information on your report</td>\n",
       "      <td>Account status incorrect</td>\n",
       "      <td>I have a loan with XXXX XXXX XXXX. I have alwa...</td>\n",
       "    </tr>\n",
       "    <tr>\n",
       "      <th>566169</th>\n",
       "      <td>566169</td>\n",
       "      <td>2022-07-21</td>\n",
       "      <td>Credit reporting, credit repair services, or o...</td>\n",
       "      <td>Credit reporting</td>\n",
       "      <td>Improper use of your report</td>\n",
       "      <td>Reporting company used your report improperly</td>\n",
       "      <td>NaN</td>\n",
       "    </tr>\n",
       "    <tr>\n",
       "      <th>566170</th>\n",
       "      <td>566170</td>\n",
       "      <td>2021-07-28</td>\n",
       "      <td>Credit reporting, credit repair services, or o...</td>\n",
       "      <td>Credit reporting</td>\n",
       "      <td>Problem with a credit reporting company's inve...</td>\n",
       "      <td>NaN</td>\n",
       "      <td>NaN</td>\n",
       "    </tr>\n",
       "  </tbody>\n",
       "</table>\n",
       "<p>566171 rows × 7 columns</p>\n",
       "</div>"
      ],
      "text/plain": [
       "        Unnamed: 0 Date received  \\\n",
       "0                0    2022-11-11   \n",
       "1                1    2022-11-23   \n",
       "2                2    2022-11-16   \n",
       "3                3    2022-11-15   \n",
       "4                4    2022-11-07   \n",
       "...            ...           ...   \n",
       "566166      566166    2014-04-17   \n",
       "566167      566167    2016-07-29   \n",
       "566168      566168    2019-02-28   \n",
       "566169      566169    2022-07-21   \n",
       "566170      566170    2021-07-28   \n",
       "\n",
       "                                                  Product  \\\n",
       "0                                                Mortgage   \n",
       "1       Credit reporting, credit repair services, or o...   \n",
       "2                                                Mortgage   \n",
       "3                             Checking or savings account   \n",
       "4                                                Mortgage   \n",
       "...                                                   ...   \n",
       "566166                                   Credit reporting   \n",
       "566167                                   Credit reporting   \n",
       "566168  Credit reporting, credit repair services, or o...   \n",
       "566169  Credit reporting, credit repair services, or o...   \n",
       "566170  Credit reporting, credit repair services, or o...   \n",
       "\n",
       "                       Sub-product  \\\n",
       "0       Conventional home mortgage   \n",
       "1                 Credit reporting   \n",
       "2                      VA mortgage   \n",
       "3                 Checking account   \n",
       "4           Other type of mortgage   \n",
       "...                            ...   \n",
       "566166                         NaN   \n",
       "566167                         NaN   \n",
       "566168            Credit reporting   \n",
       "566169            Credit reporting   \n",
       "566170            Credit reporting   \n",
       "\n",
       "                                                    Issue  \\\n",
       "0                          Trouble during payment process   \n",
       "1                             Improper use of your report   \n",
       "2                          Trouble during payment process   \n",
       "3                                     Managing an account   \n",
       "4                          Trouble during payment process   \n",
       "...                                                   ...   \n",
       "566166             Incorrect information on credit report   \n",
       "566167           Unable to get credit report/credit score   \n",
       "566168               Incorrect information on your report   \n",
       "566169                        Improper use of your report   \n",
       "566170  Problem with a credit reporting company's inve...   \n",
       "\n",
       "                                            Sub-issue  \\\n",
       "0                                                 NaN   \n",
       "1       Reporting company used your report improperly   \n",
       "2                                                 NaN   \n",
       "3                                         Fee problem   \n",
       "4                                                 NaN   \n",
       "...                                               ...   \n",
       "566166                        Information is not mine   \n",
       "566167          Problem getting my free annual report   \n",
       "566168                       Account status incorrect   \n",
       "566169  Reporting company used your report improperly   \n",
       "566170                                            NaN   \n",
       "\n",
       "                             Consumer complaint narrative  \n",
       "0                                                     NaN  \n",
       "1                                                     NaN  \n",
       "2                                                     NaN  \n",
       "3       Hi, I have been banking with Wells Fargo for o...  \n",
       "4                                                     NaN  \n",
       "...                                                   ...  \n",
       "566166                                                NaN  \n",
       "566167                                                NaN  \n",
       "566168  I have a loan with XXXX XXXX XXXX. I have alwa...  \n",
       "566169                                                NaN  \n",
       "566170                                                NaN  \n",
       "\n",
       "[566171 rows x 7 columns]"
      ]
     },
     "execution_count": 3,
     "metadata": {},
     "output_type": "execute_result"
    }
   ],
   "source": [
    "data"
   ]
  },
  {
   "cell_type": "code",
   "execution_count": 4,
   "id": "e62e29dd-903b-4711-bb55-61f2480f3596",
   "metadata": {},
   "outputs": [
    {
     "name": "stdout",
     "output_type": "stream",
     "text": [
      "<class 'pandas.core.frame.DataFrame'>\n",
      "RangeIndex: 566171 entries, 0 to 566170\n",
      "Data columns (total 7 columns):\n",
      " #   Column                        Non-Null Count   Dtype \n",
      "---  ------                        --------------   ----- \n",
      " 0   Unnamed: 0                    566171 non-null  int64 \n",
      " 1   Date received                 566171 non-null  object\n",
      " 2   Product                       566171 non-null  object\n",
      " 3   Sub-product                   560134 non-null  object\n",
      " 4   Issue                         566171 non-null  object\n",
      " 5   Sub-issue                     514361 non-null  object\n",
      " 6   Consumer complaint narrative  217037 non-null  object\n",
      "dtypes: int64(1), object(6)\n",
      "memory usage: 30.2+ MB\n"
     ]
    }
   ],
   "source": [
    "data.info()"
   ]
  },
  {
   "cell_type": "code",
   "execution_count": 5,
   "id": "9cd5ccfc-83fe-4665-a5c6-2e9efe6e9bb6",
   "metadata": {},
   "outputs": [
    {
     "data": {
      "text/plain": [
       "Unnamed: 0                           0\n",
       "Date received                        0\n",
       "Product                              0\n",
       "Sub-product                       6037\n",
       "Issue                                0\n",
       "Sub-issue                        51810\n",
       "Consumer complaint narrative    349134\n",
       "dtype: int64"
      ]
     },
     "execution_count": 5,
     "metadata": {},
     "output_type": "execute_result"
    }
   ],
   "source": [
    "data.isnull().sum()"
   ]
  },
  {
   "cell_type": "code",
   "execution_count": 6,
   "id": "9e1a2548-2cca-4c5e-819f-d5d48f0a38e3",
   "metadata": {},
   "outputs": [],
   "source": [
    "data = data.drop(\"Unnamed: 0\",axis=1)"
   ]
  },
  {
   "cell_type": "code",
   "execution_count": 7,
   "id": "c0eae516-e9f6-46e8-9f72-beeb02f882da",
   "metadata": {},
   "outputs": [],
   "source": [
    "data = data.dropna()"
   ]
  },
  {
   "cell_type": "code",
   "execution_count": 8,
   "id": "7f18060c-c118-40a2-b8c2-dabfc69a6cf3",
   "metadata": {},
   "outputs": [
    {
     "data": {
      "text/plain": [
       "Credit reporting, credit repair services, or other personal consumer reports    128213\n",
       "Debt collection                                                                  28123\n",
       "Credit card or prepaid card                                                      16539\n",
       "Checking or savings account                                                      12138\n",
       "Student loan                                                                      3803\n",
       "Vehicle loan or lease                                                             3751\n",
       "Payday loan, title loan, or personal loan                                          200\n",
       "Name: Product, dtype: int64"
      ]
     },
     "execution_count": 8,
     "metadata": {},
     "output_type": "execute_result"
    }
   ],
   "source": [
    "data[\"Product\"].value_counts()"
   ]
  },
  {
   "cell_type": "code",
   "execution_count": 9,
   "id": "db6fbd91-f0ab-42cc-8ce1-bec7b70b91c4",
   "metadata": {},
   "outputs": [],
   "source": [
    "nltk.download('stopwords', quiet=True)\n",
    "stemmer = nltk.SnowballStemmer(\"english\")\n",
    "stopword=set(stopwords.words('english'))\n",
    "\n",
    "def clean(text):\n",
    "    text = str(text).lower()\n",
    "    text = re.sub('\\[.*?\\]', '', text)\n",
    "    text = re.sub('https?://\\S+|www\\.\\S+', '', text)\n",
    "    text = re.sub('<.*?>+', '', text)\n",
    "    text = re.sub('[%s]' % re.escape(string.punctuation), '', text)\n",
    "    text = re.sub('\\n', '', text)\n",
    "    text = re.sub('\\w*\\d\\w*', '', text)\n",
    "    text = [word for word in text.split(' ') if word not in stopword]\n",
    "    text=\" \".join(text)\n",
    "    text = [stemmer.stem(word) for word in text.split(' ')]\n",
    "    text=\" \".join(text)\n",
    "    return text\n",
    "data[\"Consumer complaint narrative\"] = data[\"Consumer complaint narrative\"].apply(clean)"
   ]
  },
  {
   "cell_type": "code",
   "execution_count": 10,
   "id": "b9db58ba-c86b-420d-a1fa-6674c7e6f9a8",
   "metadata": {},
   "outputs": [],
   "source": [
    "data = data[[\"Consumer complaint narrative\", \"Product\"]]\n",
    "x = np.array(data[\"Consumer complaint narrative\"])\n",
    "y = np.array(data[\"Product\"])"
   ]
  },
  {
   "cell_type": "code",
   "execution_count": 11,
   "id": "c76178be-aa34-4c2a-bbb6-17f341174ee6",
   "metadata": {},
   "outputs": [],
   "source": [
    "cv = CountVectorizer()\n",
    "X = cv.fit_transform(x)"
   ]
  },
  {
   "cell_type": "code",
   "execution_count": 12,
   "id": "87557fa5-7801-4be9-bcaf-dc059322b946",
   "metadata": {},
   "outputs": [],
   "source": [
    "X_train, X_test, y_train, y_test = train_test_split(X,\n",
    "                                                    y,\n",
    "                                                    test_size = 0.33,\n",
    "                                                    random_state=42)"
   ]
  },
  {
   "cell_type": "code",
   "execution_count": null,
   "id": "8cda35c5-8425-4a34-8f5c-0709555d99ae",
   "metadata": {},
   "outputs": [],
   "source": [
    "sgdmodel = SGDClassifier()\n",
    "sgdmodel.fit(X_train,y_train)\n",
    "sgdmodel.score(X_train, y_train)"
   ]
  },
  {
   "cell_type": "code",
   "execution_count": null,
   "id": "7b853f4a-09c4-4197-aa79-116b62340424",
   "metadata": {},
   "outputs": [],
   "source": [
    "user = input(\"Enter a Text: \")\n",
    "data = cv.transform([user]).toarray()\n",
    "output = sgdmodel.predict(data)\n",
    "print(output)"
   ]
  }
 ],
 "metadata": {
  "kernelspec": {
   "display_name": "Python 3 (ipykernel)",
   "language": "python",
   "name": "python3"
  },
  "language_info": {
   "codemirror_mode": {
    "name": "ipython",
    "version": 3
   },
   "file_extension": ".py",
   "mimetype": "text/x-python",
   "name": "python",
   "nbconvert_exporter": "python",
   "pygments_lexer": "ipython3",
   "version": "3.10.12"
  }
 },
 "nbformat": 4,
 "nbformat_minor": 5
}
