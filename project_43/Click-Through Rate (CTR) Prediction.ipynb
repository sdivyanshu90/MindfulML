{
 "cells": [
  {
   "cell_type": "markdown",
   "id": "28c2be3f-e5f0-4b79-8e33-125b009e9be6",
   "metadata": {},
   "source": [
    "## Importing Libraries"
   ]
  },
  {
   "cell_type": "code",
   "execution_count": 1,
   "id": "6f7628b6-ff1b-4def-902e-3e05444ad399",
   "metadata": {},
   "outputs": [],
   "source": [
    "import numpy as np\n",
    "import pandas as pd\n",
    "import seaborn as sns\n",
    "import matplotlib.pyplot as plt\n",
    "import plotly.express as px\n",
    "import plotly.graph_objects as go\n",
    "from sklearn.metrics import f1_score, accuracy_score\n",
    "from sklearn.model_selection import train_test_split\n",
    "from sklearn.linear_model import LogisticRegression"
   ]
  },
  {
   "cell_type": "markdown",
   "id": "d7816c9b-8259-4bf9-9867-c4a00d13910d",
   "metadata": {},
   "source": [
    "## Disable warnings"
   ]
  },
  {
   "cell_type": "code",
   "execution_count": 2,
   "id": "a0ca8955-9eae-4a0e-a728-86038694d2da",
   "metadata": {},
   "outputs": [],
   "source": [
    "import warnings\n",
    "warnings.simplefilter(\"ignore\")\n",
    "warnings.filterwarnings(\"ignore\")"
   ]
  },
  {
   "cell_type": "markdown",
   "id": "8ad3fa2d-d61d-4b9c-873f-9b74f5c172ed",
   "metadata": {},
   "source": [
    "## Loading the Data"
   ]
  },
  {
   "cell_type": "code",
   "execution_count": 4,
   "id": "ed2644f3-d225-4231-8c47-1098ecd7cf12",
   "metadata": {},
   "outputs": [],
   "source": [
    "data = pd.read_csv(\"advertisement.csv\")"
   ]
  },
  {
   "cell_type": "code",
   "execution_count": 5,
   "id": "e342d2b3-91bd-4d5a-a065-cbd4d22d31e7",
   "metadata": {},
   "outputs": [
    {
     "data": {
      "text/html": [
       "<div>\n",
       "<style scoped>\n",
       "    .dataframe tbody tr th:only-of-type {\n",
       "        vertical-align: middle;\n",
       "    }\n",
       "\n",
       "    .dataframe tbody tr th {\n",
       "        vertical-align: top;\n",
       "    }\n",
       "\n",
       "    .dataframe thead th {\n",
       "        text-align: right;\n",
       "    }\n",
       "</style>\n",
       "<table border=\"1\" class=\"dataframe\">\n",
       "  <thead>\n",
       "    <tr style=\"text-align: right;\">\n",
       "      <th></th>\n",
       "      <th>Daily Time Spent on Site</th>\n",
       "      <th>Age</th>\n",
       "      <th>Area Income</th>\n",
       "      <th>Daily Internet Usage</th>\n",
       "      <th>Ad Topic Line</th>\n",
       "      <th>City</th>\n",
       "      <th>Gender</th>\n",
       "      <th>Country</th>\n",
       "      <th>Timestamp</th>\n",
       "      <th>Clicked on Ad</th>\n",
       "    </tr>\n",
       "  </thead>\n",
       "  <tbody>\n",
       "    <tr>\n",
       "      <th>0</th>\n",
       "      <td>62.26</td>\n",
       "      <td>32.0</td>\n",
       "      <td>69481.85</td>\n",
       "      <td>172.83</td>\n",
       "      <td>Decentralized real-time circuit</td>\n",
       "      <td>Lisafort</td>\n",
       "      <td>Male</td>\n",
       "      <td>Svalbard &amp; Jan Mayen Islands</td>\n",
       "      <td>2016-06-09 21:43:05</td>\n",
       "      <td>0</td>\n",
       "    </tr>\n",
       "    <tr>\n",
       "      <th>1</th>\n",
       "      <td>41.73</td>\n",
       "      <td>31.0</td>\n",
       "      <td>61840.26</td>\n",
       "      <td>207.17</td>\n",
       "      <td>Optional full-range projection</td>\n",
       "      <td>West Angelabury</td>\n",
       "      <td>Male</td>\n",
       "      <td>Singapore</td>\n",
       "      <td>2016-01-16 17:56:05</td>\n",
       "      <td>0</td>\n",
       "    </tr>\n",
       "    <tr>\n",
       "      <th>2</th>\n",
       "      <td>44.40</td>\n",
       "      <td>30.0</td>\n",
       "      <td>57877.15</td>\n",
       "      <td>172.83</td>\n",
       "      <td>Total 5thgeneration standardization</td>\n",
       "      <td>Reyesfurt</td>\n",
       "      <td>Female</td>\n",
       "      <td>Guadeloupe</td>\n",
       "      <td>2016-06-29 10:50:45</td>\n",
       "      <td>0</td>\n",
       "    </tr>\n",
       "    <tr>\n",
       "      <th>3</th>\n",
       "      <td>59.88</td>\n",
       "      <td>28.0</td>\n",
       "      <td>56180.93</td>\n",
       "      <td>207.17</td>\n",
       "      <td>Balanced empowering success</td>\n",
       "      <td>New Michael</td>\n",
       "      <td>Female</td>\n",
       "      <td>Zambia</td>\n",
       "      <td>2016-06-21 14:32:32</td>\n",
       "      <td>0</td>\n",
       "    </tr>\n",
       "    <tr>\n",
       "      <th>4</th>\n",
       "      <td>49.21</td>\n",
       "      <td>30.0</td>\n",
       "      <td>54324.73</td>\n",
       "      <td>201.58</td>\n",
       "      <td>Total 5thgeneration standardization</td>\n",
       "      <td>West Richard</td>\n",
       "      <td>Female</td>\n",
       "      <td>Qatar</td>\n",
       "      <td>2016-07-21 10:54:35</td>\n",
       "      <td>1</td>\n",
       "    </tr>\n",
       "    <tr>\n",
       "      <th>...</th>\n",
       "      <td>...</td>\n",
       "      <td>...</td>\n",
       "      <td>...</td>\n",
       "      <td>...</td>\n",
       "      <td>...</td>\n",
       "      <td>...</td>\n",
       "      <td>...</td>\n",
       "      <td>...</td>\n",
       "      <td>...</td>\n",
       "      <td>...</td>\n",
       "    </tr>\n",
       "    <tr>\n",
       "      <th>9995</th>\n",
       "      <td>41.73</td>\n",
       "      <td>31.0</td>\n",
       "      <td>61840.26</td>\n",
       "      <td>207.17</td>\n",
       "      <td>Profound executive flexibility</td>\n",
       "      <td>West Angelabury</td>\n",
       "      <td>Male</td>\n",
       "      <td>Singapore</td>\n",
       "      <td>2016-01-03 03:22:15</td>\n",
       "      <td>1</td>\n",
       "    </tr>\n",
       "    <tr>\n",
       "      <th>9996</th>\n",
       "      <td>41.73</td>\n",
       "      <td>28.0</td>\n",
       "      <td>51501.38</td>\n",
       "      <td>120.49</td>\n",
       "      <td>Managed zero tolerance concept</td>\n",
       "      <td>Kennedyfurt</td>\n",
       "      <td>Male</td>\n",
       "      <td>Luxembourg</td>\n",
       "      <td>2016-05-28 12:20:15</td>\n",
       "      <td>0</td>\n",
       "    </tr>\n",
       "    <tr>\n",
       "      <th>9997</th>\n",
       "      <td>55.60</td>\n",
       "      <td>39.0</td>\n",
       "      <td>38067.08</td>\n",
       "      <td>124.44</td>\n",
       "      <td>Intuitive exuding service-desk</td>\n",
       "      <td>North Randy</td>\n",
       "      <td>Female</td>\n",
       "      <td>Egypt</td>\n",
       "      <td>2016-01-05 11:53:17</td>\n",
       "      <td>0</td>\n",
       "    </tr>\n",
       "    <tr>\n",
       "      <th>9998</th>\n",
       "      <td>46.61</td>\n",
       "      <td>50.0</td>\n",
       "      <td>43974.49</td>\n",
       "      <td>123.13</td>\n",
       "      <td>Realigned content-based leverage</td>\n",
       "      <td>North Samantha</td>\n",
       "      <td>Female</td>\n",
       "      <td>Malawi</td>\n",
       "      <td>2016-04-04 07:07:46</td>\n",
       "      <td>1</td>\n",
       "    </tr>\n",
       "    <tr>\n",
       "      <th>9999</th>\n",
       "      <td>46.61</td>\n",
       "      <td>43.0</td>\n",
       "      <td>60575.99</td>\n",
       "      <td>198.45</td>\n",
       "      <td>Optimized upward-trending productivity</td>\n",
       "      <td>Port Jeffrey</td>\n",
       "      <td>Male</td>\n",
       "      <td>Northern Mariana Islands</td>\n",
       "      <td>2016-04-03 21:13:46</td>\n",
       "      <td>1</td>\n",
       "    </tr>\n",
       "  </tbody>\n",
       "</table>\n",
       "<p>10000 rows × 10 columns</p>\n",
       "</div>"
      ],
      "text/plain": [
       "      Daily Time Spent on Site   Age  Area Income  Daily Internet Usage  \\\n",
       "0                        62.26  32.0     69481.85                172.83   \n",
       "1                        41.73  31.0     61840.26                207.17   \n",
       "2                        44.40  30.0     57877.15                172.83   \n",
       "3                        59.88  28.0     56180.93                207.17   \n",
       "4                        49.21  30.0     54324.73                201.58   \n",
       "...                        ...   ...          ...                   ...   \n",
       "9995                     41.73  31.0     61840.26                207.17   \n",
       "9996                     41.73  28.0     51501.38                120.49   \n",
       "9997                     55.60  39.0     38067.08                124.44   \n",
       "9998                     46.61  50.0     43974.49                123.13   \n",
       "9999                     46.61  43.0     60575.99                198.45   \n",
       "\n",
       "                               Ad Topic Line             City  Gender  \\\n",
       "0            Decentralized real-time circuit         Lisafort    Male   \n",
       "1             Optional full-range projection  West Angelabury    Male   \n",
       "2        Total 5thgeneration standardization        Reyesfurt  Female   \n",
       "3                Balanced empowering success      New Michael  Female   \n",
       "4        Total 5thgeneration standardization     West Richard  Female   \n",
       "...                                      ...              ...     ...   \n",
       "9995          Profound executive flexibility  West Angelabury    Male   \n",
       "9996          Managed zero tolerance concept      Kennedyfurt    Male   \n",
       "9997          Intuitive exuding service-desk      North Randy  Female   \n",
       "9998        Realigned content-based leverage   North Samantha  Female   \n",
       "9999  Optimized upward-trending productivity     Port Jeffrey    Male   \n",
       "\n",
       "                           Country            Timestamp  Clicked on Ad  \n",
       "0     Svalbard & Jan Mayen Islands  2016-06-09 21:43:05              0  \n",
       "1                        Singapore  2016-01-16 17:56:05              0  \n",
       "2                       Guadeloupe  2016-06-29 10:50:45              0  \n",
       "3                           Zambia  2016-06-21 14:32:32              0  \n",
       "4                            Qatar  2016-07-21 10:54:35              1  \n",
       "...                            ...                  ...            ...  \n",
       "9995                     Singapore  2016-01-03 03:22:15              1  \n",
       "9996                    Luxembourg  2016-05-28 12:20:15              0  \n",
       "9997                         Egypt  2016-01-05 11:53:17              0  \n",
       "9998                        Malawi  2016-04-04 07:07:46              1  \n",
       "9999      Northern Mariana Islands  2016-04-03 21:13:46              1  \n",
       "\n",
       "[10000 rows x 10 columns]"
      ]
     },
     "execution_count": 5,
     "metadata": {},
     "output_type": "execute_result"
    }
   ],
   "source": [
    "data"
   ]
  },
  {
   "cell_type": "code",
   "execution_count": 6,
   "id": "dfa27525-f5e7-41b3-b380-99d1822d603a",
   "metadata": {},
   "outputs": [
    {
     "name": "stdout",
     "output_type": "stream",
     "text": [
      "<class 'pandas.core.frame.DataFrame'>\n",
      "RangeIndex: 10000 entries, 0 to 9999\n",
      "Data columns (total 10 columns):\n",
      " #   Column                    Non-Null Count  Dtype  \n",
      "---  ------                    --------------  -----  \n",
      " 0   Daily Time Spent on Site  10000 non-null  float64\n",
      " 1   Age                       10000 non-null  float64\n",
      " 2   Area Income               10000 non-null  float64\n",
      " 3   Daily Internet Usage      10000 non-null  float64\n",
      " 4   Ad Topic Line             10000 non-null  object \n",
      " 5   City                      10000 non-null  object \n",
      " 6   Gender                    10000 non-null  object \n",
      " 7   Country                   10000 non-null  object \n",
      " 8   Timestamp                 10000 non-null  object \n",
      " 9   Clicked on Ad             10000 non-null  int64  \n",
      "dtypes: float64(4), int64(1), object(5)\n",
      "memory usage: 781.4+ KB\n"
     ]
    }
   ],
   "source": [
    "data.info()"
   ]
  },
  {
   "cell_type": "code",
   "execution_count": 7,
   "id": "9366b7dc-76cf-4fc0-8e13-353950aea659",
   "metadata": {},
   "outputs": [
    {
     "data": {
      "text/html": [
       "<div>\n",
       "<style scoped>\n",
       "    .dataframe tbody tr th:only-of-type {\n",
       "        vertical-align: middle;\n",
       "    }\n",
       "\n",
       "    .dataframe tbody tr th {\n",
       "        vertical-align: top;\n",
       "    }\n",
       "\n",
       "    .dataframe thead th {\n",
       "        text-align: right;\n",
       "    }\n",
       "</style>\n",
       "<table border=\"1\" class=\"dataframe\">\n",
       "  <thead>\n",
       "    <tr style=\"text-align: right;\">\n",
       "      <th></th>\n",
       "      <th>Daily Time Spent on Site</th>\n",
       "      <th>Age</th>\n",
       "      <th>Area Income</th>\n",
       "      <th>Daily Internet Usage</th>\n",
       "      <th>Clicked on Ad</th>\n",
       "    </tr>\n",
       "  </thead>\n",
       "  <tbody>\n",
       "    <tr>\n",
       "      <th>count</th>\n",
       "      <td>10000.000000</td>\n",
       "      <td>10000.000000</td>\n",
       "      <td>10000.000000</td>\n",
       "      <td>10000.000000</td>\n",
       "      <td>10000.000000</td>\n",
       "    </tr>\n",
       "    <tr>\n",
       "      <th>mean</th>\n",
       "      <td>61.660757</td>\n",
       "      <td>35.940100</td>\n",
       "      <td>53840.047721</td>\n",
       "      <td>177.759831</td>\n",
       "      <td>0.491700</td>\n",
       "    </tr>\n",
       "    <tr>\n",
       "      <th>std</th>\n",
       "      <td>15.704142</td>\n",
       "      <td>8.572973</td>\n",
       "      <td>13343.708718</td>\n",
       "      <td>40.820951</td>\n",
       "      <td>0.499956</td>\n",
       "    </tr>\n",
       "    <tr>\n",
       "      <th>min</th>\n",
       "      <td>32.600000</td>\n",
       "      <td>19.000000</td>\n",
       "      <td>13996.500000</td>\n",
       "      <td>105.220000</td>\n",
       "      <td>0.000000</td>\n",
       "    </tr>\n",
       "    <tr>\n",
       "      <th>25%</th>\n",
       "      <td>48.860000</td>\n",
       "      <td>29.000000</td>\n",
       "      <td>44052.302500</td>\n",
       "      <td>140.150000</td>\n",
       "      <td>0.000000</td>\n",
       "    </tr>\n",
       "    <tr>\n",
       "      <th>50%</th>\n",
       "      <td>59.590000</td>\n",
       "      <td>35.000000</td>\n",
       "      <td>56180.930000</td>\n",
       "      <td>178.920000</td>\n",
       "      <td>0.000000</td>\n",
       "    </tr>\n",
       "    <tr>\n",
       "      <th>75%</th>\n",
       "      <td>76.580000</td>\n",
       "      <td>42.000000</td>\n",
       "      <td>61840.260000</td>\n",
       "      <td>212.670000</td>\n",
       "      <td>1.000000</td>\n",
       "    </tr>\n",
       "    <tr>\n",
       "      <th>max</th>\n",
       "      <td>90.970000</td>\n",
       "      <td>60.000000</td>\n",
       "      <td>79332.330000</td>\n",
       "      <td>269.960000</td>\n",
       "      <td>1.000000</td>\n",
       "    </tr>\n",
       "  </tbody>\n",
       "</table>\n",
       "</div>"
      ],
      "text/plain": [
       "       Daily Time Spent on Site           Age   Area Income  \\\n",
       "count              10000.000000  10000.000000  10000.000000   \n",
       "mean                  61.660757     35.940100  53840.047721   \n",
       "std                   15.704142      8.572973  13343.708718   \n",
       "min                   32.600000     19.000000  13996.500000   \n",
       "25%                   48.860000     29.000000  44052.302500   \n",
       "50%                   59.590000     35.000000  56180.930000   \n",
       "75%                   76.580000     42.000000  61840.260000   \n",
       "max                   90.970000     60.000000  79332.330000   \n",
       "\n",
       "       Daily Internet Usage  Clicked on Ad  \n",
       "count          10000.000000   10000.000000  \n",
       "mean             177.759831       0.491700  \n",
       "std               40.820951       0.499956  \n",
       "min              105.220000       0.000000  \n",
       "25%              140.150000       0.000000  \n",
       "50%              178.920000       0.000000  \n",
       "75%              212.670000       1.000000  \n",
       "max              269.960000       1.000000  "
      ]
     },
     "execution_count": 7,
     "metadata": {},
     "output_type": "execute_result"
    }
   ],
   "source": [
    "data.describe()"
   ]
  },
  {
   "cell_type": "code",
   "execution_count": 9,
   "id": "0fafdeb7-959e-402b-85b8-af67960f6779",
   "metadata": {},
   "outputs": [
    {
     "data": {
      "text/plain": [
       "<bound method NDFrame._add_numeric_operations.<locals>.sum of       Daily Time Spent on Site    Age  Area Income  Daily Internet Usage  \\\n",
       "0                        False  False        False                 False   \n",
       "1                        False  False        False                 False   \n",
       "2                        False  False        False                 False   \n",
       "3                        False  False        False                 False   \n",
       "4                        False  False        False                 False   \n",
       "...                        ...    ...          ...                   ...   \n",
       "9995                     False  False        False                 False   \n",
       "9996                     False  False        False                 False   \n",
       "9997                     False  False        False                 False   \n",
       "9998                     False  False        False                 False   \n",
       "9999                     False  False        False                 False   \n",
       "\n",
       "      Ad Topic Line   City  Gender  Country  Timestamp  Clicked on Ad  \n",
       "0             False  False   False    False      False          False  \n",
       "1             False  False   False    False      False          False  \n",
       "2             False  False   False    False      False          False  \n",
       "3             False  False   False    False      False          False  \n",
       "4             False  False   False    False      False          False  \n",
       "...             ...    ...     ...      ...        ...            ...  \n",
       "9995          False  False   False    False      False          False  \n",
       "9996          False  False   False    False      False          False  \n",
       "9997          False  False   False    False      False          False  \n",
       "9998          False  False   False    False      False          False  \n",
       "9999          False  False   False    False      False          False  \n",
       "\n",
       "[10000 rows x 10 columns]>"
      ]
     },
     "execution_count": 9,
     "metadata": {},
     "output_type": "execute_result"
    }
   ],
   "source": [
    "data.isna().sum"
   ]
  },
  {
   "cell_type": "code",
   "execution_count": 10,
   "id": "5bea8b49-24d1-4ed5-9cbe-fd6e680ca292",
   "metadata": {},
   "outputs": [
    {
     "data": {
      "text/plain": [
       "Daily Time Spent on Site    0\n",
       "Age                         0\n",
       "Area Income                 0\n",
       "Daily Internet Usage        0\n",
       "Ad Topic Line               0\n",
       "City                        0\n",
       "Gender                      0\n",
       "Country                     0\n",
       "Timestamp                   0\n",
       "Clicked on Ad               0\n",
       "dtype: int64"
      ]
     },
     "execution_count": 10,
     "metadata": {},
     "output_type": "execute_result"
    }
   ],
   "source": [
    "data.isnull().sum()"
   ]
  },
  {
   "cell_type": "code",
   "execution_count": 11,
   "id": "870cc8ce-69a1-4483-897b-e9d633b8a6d5",
   "metadata": {},
   "outputs": [
    {
     "data": {
      "text/plain": [
       "Index(['Daily Time Spent on Site', 'Age', 'Area Income',\n",
       "       'Daily Internet Usage', 'Ad Topic Line', 'City', 'Gender', 'Country',\n",
       "       'Timestamp', 'Clicked on Ad'],\n",
       "      dtype='object')"
      ]
     },
     "execution_count": 11,
     "metadata": {},
     "output_type": "execute_result"
    }
   ],
   "source": [
    "data.columns"
   ]
  },
  {
   "cell_type": "code",
   "execution_count": 12,
   "id": "6d7ab653-c2bd-42ce-9f7e-0bd4bfa95d0b",
   "metadata": {},
   "outputs": [],
   "source": [
    "data[\"Gender\"] = data[\"Gender\"].map({\"Female\":0, \"Male\":1})"
   ]
  },
  {
   "cell_type": "code",
   "execution_count": null,
   "id": "133d1aee-5515-470e-80b4-7e96ef9ad2a9",
   "metadata": {},
   "outputs": [],
   "source": [
    "## Splitting the data"
   ]
  },
  {
   "cell_type": "code",
   "execution_count": 13,
   "id": "b66cb6f7-9a22-4e56-864a-26b228e63100",
   "metadata": {},
   "outputs": [
    {
     "data": {
      "text/html": [
       "<div>\n",
       "<style scoped>\n",
       "    .dataframe tbody tr th:only-of-type {\n",
       "        vertical-align: middle;\n",
       "    }\n",
       "\n",
       "    .dataframe tbody tr th {\n",
       "        vertical-align: top;\n",
       "    }\n",
       "\n",
       "    .dataframe thead th {\n",
       "        text-align: right;\n",
       "    }\n",
       "</style>\n",
       "<table border=\"1\" class=\"dataframe\">\n",
       "  <thead>\n",
       "    <tr style=\"text-align: right;\">\n",
       "      <th></th>\n",
       "      <th>Daily Time Spent on Site</th>\n",
       "      <th>Age</th>\n",
       "      <th>Area Income</th>\n",
       "      <th>Daily Internet Usage</th>\n",
       "      <th>Gender</th>\n",
       "    </tr>\n",
       "  </thead>\n",
       "  <tbody>\n",
       "    <tr>\n",
       "      <th>0</th>\n",
       "      <td>62.26</td>\n",
       "      <td>32.0</td>\n",
       "      <td>69481.85</td>\n",
       "      <td>172.83</td>\n",
       "      <td>1</td>\n",
       "    </tr>\n",
       "    <tr>\n",
       "      <th>1</th>\n",
       "      <td>41.73</td>\n",
       "      <td>31.0</td>\n",
       "      <td>61840.26</td>\n",
       "      <td>207.17</td>\n",
       "      <td>1</td>\n",
       "    </tr>\n",
       "    <tr>\n",
       "      <th>2</th>\n",
       "      <td>44.40</td>\n",
       "      <td>30.0</td>\n",
       "      <td>57877.15</td>\n",
       "      <td>172.83</td>\n",
       "      <td>0</td>\n",
       "    </tr>\n",
       "    <tr>\n",
       "      <th>3</th>\n",
       "      <td>59.88</td>\n",
       "      <td>28.0</td>\n",
       "      <td>56180.93</td>\n",
       "      <td>207.17</td>\n",
       "      <td>0</td>\n",
       "    </tr>\n",
       "    <tr>\n",
       "      <th>4</th>\n",
       "      <td>49.21</td>\n",
       "      <td>30.0</td>\n",
       "      <td>54324.73</td>\n",
       "      <td>201.58</td>\n",
       "      <td>0</td>\n",
       "    </tr>\n",
       "    <tr>\n",
       "      <th>...</th>\n",
       "      <td>...</td>\n",
       "      <td>...</td>\n",
       "      <td>...</td>\n",
       "      <td>...</td>\n",
       "      <td>...</td>\n",
       "    </tr>\n",
       "    <tr>\n",
       "      <th>9995</th>\n",
       "      <td>41.73</td>\n",
       "      <td>31.0</td>\n",
       "      <td>61840.26</td>\n",
       "      <td>207.17</td>\n",
       "      <td>1</td>\n",
       "    </tr>\n",
       "    <tr>\n",
       "      <th>9996</th>\n",
       "      <td>41.73</td>\n",
       "      <td>28.0</td>\n",
       "      <td>51501.38</td>\n",
       "      <td>120.49</td>\n",
       "      <td>1</td>\n",
       "    </tr>\n",
       "    <tr>\n",
       "      <th>9997</th>\n",
       "      <td>55.60</td>\n",
       "      <td>39.0</td>\n",
       "      <td>38067.08</td>\n",
       "      <td>124.44</td>\n",
       "      <td>0</td>\n",
       "    </tr>\n",
       "    <tr>\n",
       "      <th>9998</th>\n",
       "      <td>46.61</td>\n",
       "      <td>50.0</td>\n",
       "      <td>43974.49</td>\n",
       "      <td>123.13</td>\n",
       "      <td>0</td>\n",
       "    </tr>\n",
       "    <tr>\n",
       "      <th>9999</th>\n",
       "      <td>46.61</td>\n",
       "      <td>43.0</td>\n",
       "      <td>60575.99</td>\n",
       "      <td>198.45</td>\n",
       "      <td>1</td>\n",
       "    </tr>\n",
       "  </tbody>\n",
       "</table>\n",
       "<p>10000 rows × 5 columns</p>\n",
       "</div>"
      ],
      "text/plain": [
       "      Daily Time Spent on Site   Age  Area Income  Daily Internet Usage  \\\n",
       "0                        62.26  32.0     69481.85                172.83   \n",
       "1                        41.73  31.0     61840.26                207.17   \n",
       "2                        44.40  30.0     57877.15                172.83   \n",
       "3                        59.88  28.0     56180.93                207.17   \n",
       "4                        49.21  30.0     54324.73                201.58   \n",
       "...                        ...   ...          ...                   ...   \n",
       "9995                     41.73  31.0     61840.26                207.17   \n",
       "9996                     41.73  28.0     51501.38                120.49   \n",
       "9997                     55.60  39.0     38067.08                124.44   \n",
       "9998                     46.61  50.0     43974.49                123.13   \n",
       "9999                     46.61  43.0     60575.99                198.45   \n",
       "\n",
       "      Gender  \n",
       "0          1  \n",
       "1          1  \n",
       "2          0  \n",
       "3          0  \n",
       "4          0  \n",
       "...      ...  \n",
       "9995       1  \n",
       "9996       1  \n",
       "9997       0  \n",
       "9998       0  \n",
       "9999       1  \n",
       "\n",
       "[10000 rows x 5 columns]"
      ]
     },
     "execution_count": 13,
     "metadata": {},
     "output_type": "execute_result"
    }
   ],
   "source": [
    "x = data.iloc[:,0:7]\n",
    "x = x.drop(['Ad Topic Line','City'],axis=1)\n",
    "x"
   ]
  },
  {
   "cell_type": "code",
   "execution_count": 14,
   "id": "d6728e30-c102-4f53-a4c6-58af6cf2ed59",
   "metadata": {},
   "outputs": [
    {
     "data": {
      "text/plain": [
       "0       0\n",
       "1       0\n",
       "2       0\n",
       "3       0\n",
       "4       1\n",
       "       ..\n",
       "9995    1\n",
       "9996    0\n",
       "9997    0\n",
       "9998    1\n",
       "9999    1\n",
       "Name: Clicked on Ad, Length: 10000, dtype: int64"
      ]
     },
     "execution_count": 14,
     "metadata": {},
     "output_type": "execute_result"
    }
   ],
   "source": [
    "y = data.iloc[:, 9]\n",
    "y"
   ]
  },
  {
   "cell_type": "code",
   "execution_count": 15,
   "id": "f53886e8-e830-49bd-9396-059f78313741",
   "metadata": {},
   "outputs": [],
   "source": [
    "xtrain, xtest, ytrain, ytest = train_test_split(x,\n",
    "                                                y,\n",
    "                                                test_size = 0.1,\n",
    "                                                random_state = 42)"
   ]
  },
  {
   "cell_type": "markdown",
   "id": "33e90aa4-7dfc-4947-a364-4b5d143d0264",
   "metadata": {},
   "source": [
    "## Training the Click-Through Rate (CTR) Prediction Model"
   ]
  },
  {
   "cell_type": "code",
   "execution_count": 17,
   "id": "4f2160cb-ed72-4544-a04d-a3517daa8248",
   "metadata": {},
   "outputs": [
    {
     "data": {
      "text/plain": [
       "0.6906666666666667"
      ]
     },
     "execution_count": 17,
     "metadata": {},
     "output_type": "execute_result"
    }
   ],
   "source": [
    "model = LogisticRegression(C=0.01,random_state=0)\n",
    "model.fit(xtrain, ytrain)\n",
    "model.score(xtrain, ytrain)"
   ]
  },
  {
   "cell_type": "code",
   "execution_count": 18,
   "id": "695306bb-618d-408c-b09e-b759310dbba8",
   "metadata": {},
   "outputs": [
    {
     "data": {
      "text/plain": [
       "array([1, 1, 1, 0, 0, 0, 1, 1, 0, 1, 0, 1, 1, 0, 0, 1, 0, 1, 1, 1, 0, 1,\n",
       "       0, 1, 1, 0, 0, 0, 1, 1, 0, 0, 0, 0, 1, 0, 0, 0, 0, 1, 0, 1, 0, 1,\n",
       "       0, 0, 0, 0, 0, 1, 1, 0, 1, 0, 0, 1, 1, 1, 1, 0, 0, 1, 0, 0, 0, 1,\n",
       "       1, 1, 0, 1, 1, 1, 0, 1, 1, 0, 1, 0, 0, 1, 0, 1, 0, 1, 0, 0, 0, 0,\n",
       "       0, 0, 0, 1, 1, 1, 1, 0, 1, 1, 1, 0, 0, 0, 0, 0, 1, 0, 1, 1, 0, 0,\n",
       "       0, 0, 0, 0, 0, 0, 1, 0, 0, 1, 1, 0, 0, 1, 1, 1, 0, 0, 0, 0, 1, 0,\n",
       "       1, 1, 1, 0, 0, 0, 1, 0, 1, 1, 0, 0, 0, 1, 1, 0, 0, 1, 1, 0, 1, 0,\n",
       "       0, 0, 1, 0, 0, 1, 0, 0, 1, 1, 1, 0, 0, 1, 1, 0, 1, 1, 1, 0, 0, 1,\n",
       "       1, 1, 1, 0, 1, 1, 1, 1, 0, 0, 1, 1, 0, 0, 0, 1, 0, 0, 1, 0, 1, 0,\n",
       "       1, 0, 1, 0, 1, 1, 0, 0, 1, 1, 1, 0, 0, 0, 0, 0, 1, 1, 1, 1, 1, 0,\n",
       "       1, 1, 0, 1, 0, 1, 0, 1, 0, 0, 0, 0, 1, 1, 1, 1, 1, 0, 0, 0, 1, 0,\n",
       "       1, 0, 0, 0, 1, 0, 0, 1, 0, 0, 0, 0, 0, 1, 1, 0, 0, 0, 0, 0, 0, 1,\n",
       "       1, 0, 0, 1, 0, 0, 0, 0, 1, 1, 1, 0, 0, 1, 1, 0, 0, 1, 0, 0, 0, 0,\n",
       "       1, 0, 0, 0, 0, 1, 0, 0, 1, 0, 1, 0, 0, 0, 0, 1, 1, 0, 1, 0, 0, 1,\n",
       "       0, 1, 1, 0, 1, 1, 0, 0, 0, 1, 1, 0, 0, 0, 1, 1, 0, 1, 1, 1, 0, 0,\n",
       "       0, 1, 0, 1, 0, 1, 0, 1, 0, 0, 1, 0, 0, 0, 0, 1, 0, 1, 0, 0, 0, 0,\n",
       "       0, 0, 0, 1, 0, 1, 0, 0, 1, 0, 1, 1, 0, 1, 1, 0, 0, 1, 0, 0, 1, 1,\n",
       "       0, 1, 1, 1, 1, 0, 1, 0, 0, 0, 0, 0, 1, 0, 1, 1, 1, 1, 1, 0, 1, 1,\n",
       "       0, 0, 0, 0, 1, 1, 0, 1, 1, 0, 0, 0, 1, 1, 0, 0, 0, 0, 1, 1, 1, 1,\n",
       "       0, 0, 1, 0, 0, 0, 0, 0, 0, 0, 1, 0, 0, 0, 0, 1, 1, 1, 0, 0, 1, 1,\n",
       "       0, 1, 0, 0, 1, 1, 0, 0, 0, 1, 0, 0, 1, 0, 1, 0, 0, 0, 0, 0, 0, 0,\n",
       "       1, 1, 1, 1, 0, 1, 0, 1, 1, 0, 0, 0, 1, 1, 0, 1, 1, 0, 0, 0, 0, 0,\n",
       "       0, 1, 0, 0, 0, 0, 1, 0, 0, 0, 0, 0, 0, 1, 1, 0, 0, 1, 1, 1, 0, 0,\n",
       "       1, 1, 0, 0, 1, 0, 1, 0, 0, 1, 1, 1, 1, 0, 1, 1, 1, 0, 0, 0, 1, 1,\n",
       "       1, 1, 0, 1, 1, 1, 0, 1, 0, 1, 1, 0, 1, 0, 0, 0, 0, 1, 0, 0, 1, 1,\n",
       "       0, 1, 1, 0, 0, 0, 0, 1, 1, 1, 0, 1, 0, 0, 0, 0, 1, 0, 0, 1, 0, 1,\n",
       "       1, 1, 0, 0, 1, 1, 0, 1, 1, 0, 1, 1, 0, 0, 1, 0, 0, 1, 1, 1, 1, 0,\n",
       "       0, 1, 0, 0, 0, 0, 0, 0, 0, 0, 1, 0, 1, 0, 0, 0, 1, 0, 0, 0, 1, 0,\n",
       "       1, 0, 1, 0, 1, 1, 1, 1, 1, 0, 1, 1, 1, 0, 1, 0, 0, 0, 0, 0, 1, 1,\n",
       "       0, 0, 0, 0, 1, 1, 1, 0, 1, 1, 0, 1, 0, 1, 0, 1, 1, 1, 1, 1, 0, 1,\n",
       "       1, 0, 1, 0, 0, 0, 0, 0, 0, 1, 1, 1, 1, 0, 0, 1, 0, 0, 1, 0, 0, 0,\n",
       "       0, 1, 1, 1, 1, 0, 0, 0, 1, 0, 1, 1, 1, 1, 0, 0, 1, 0, 0, 1, 1, 0,\n",
       "       0, 0, 1, 0, 0, 1, 1, 1, 1, 0, 1, 1, 0, 1, 0, 1, 0, 0, 0, 1, 1, 0,\n",
       "       0, 0, 0, 1, 0, 0, 1, 1, 0, 1, 1, 0, 0, 0, 0, 1, 0, 1, 0, 0, 0, 1,\n",
       "       1, 1, 0, 1, 1, 1, 0, 1, 0, 1, 0, 0, 0, 0, 0, 1, 0, 0, 0, 0, 0, 0,\n",
       "       0, 0, 1, 1, 0, 1, 1, 1, 1, 0, 1, 0, 0, 1, 1, 0, 1, 0, 0, 1, 0, 1,\n",
       "       0, 0, 1, 0, 0, 1, 0, 0, 0, 0, 1, 1, 1, 0, 1, 1, 0, 0, 1, 0, 0, 0,\n",
       "       0, 0, 0, 0, 0, 0, 1, 1, 0, 1, 0, 0, 0, 0, 0, 0, 0, 0, 1, 1, 0, 1,\n",
       "       0, 0, 1, 0, 1, 1, 1, 0, 0, 1, 0, 0, 0, 0, 1, 1, 1, 1, 1, 1, 1, 0,\n",
       "       0, 1, 1, 0, 1, 1, 0, 1, 1, 1, 0, 0, 0, 0, 0, 0, 0, 1, 0, 0, 0, 0,\n",
       "       1, 0, 0, 0, 0, 1, 1, 1, 1, 1, 1, 0, 1, 1, 0, 0, 1, 0, 0, 1, 0, 0,\n",
       "       1, 1, 0, 0, 1, 0, 0, 0, 0, 1, 1, 1, 0, 1, 0, 1, 1, 1, 1, 0, 1, 1,\n",
       "       0, 0, 1, 0, 0, 1, 0, 0, 1, 1, 0, 0, 0, 0, 0, 1, 0, 1, 1, 0, 1, 1,\n",
       "       1, 0, 1, 1, 0, 0, 0, 1, 1, 0, 1, 0, 0, 1, 1, 0, 1, 1, 0, 1, 1, 0,\n",
       "       0, 0, 0, 1, 1, 1, 1, 0, 1, 0, 1, 0, 1, 0, 0, 0, 1, 0, 1, 0, 0, 0,\n",
       "       0, 1, 0, 1, 0, 0, 0, 1, 1, 1])"
      ]
     },
     "execution_count": 18,
     "metadata": {},
     "output_type": "execute_result"
    }
   ],
   "source": [
    "ypred = model.predict(xtest)\n",
    "ypred"
   ]
  },
  {
   "cell_type": "code",
   "execution_count": 19,
   "id": "1b75e87a-72e6-43fd-885a-54ba65dcbf42",
   "metadata": {},
   "outputs": [
    {
     "data": {
      "text/plain": [
       "array([[0.22221294, 0.77778706],\n",
       "       [0.27398993, 0.72601007],\n",
       "       [0.364856  , 0.635144  ],\n",
       "       ...,\n",
       "       [0.38194242, 0.61805758],\n",
       "       [0.1892669 , 0.8107331 ],\n",
       "       [0.0678078 , 0.9321922 ]])"
      ]
     },
     "execution_count": 19,
     "metadata": {},
     "output_type": "execute_result"
    }
   ],
   "source": [
    "ypred_prob = model.predict_proba(xtest)\n",
    "ypred_prob"
   ]
  },
  {
   "cell_type": "code",
   "execution_count": 20,
   "id": "100ac694-c5dd-49de-86e3-b734a6349336",
   "metadata": {},
   "outputs": [
    {
     "name": "stdout",
     "output_type": "stream",
     "text": [
      "Accuracy Score: 0.688\n",
      "F1 Score: 0.6722689075630253\n"
     ]
    }
   ],
   "source": [
    "print(f\"Accuracy Score: {accuracy_score(ytest, ypred)}\")\n",
    "print(f\"F1 Score: {f1_score(ytest, ypred)}\")"
   ]
  }
 ],
 "metadata": {
  "kernelspec": {
   "display_name": "Python 3 (ipykernel)",
   "language": "python",
   "name": "python3"
  },
  "language_info": {
   "codemirror_mode": {
    "name": "ipython",
    "version": 3
   },
   "file_extension": ".py",
   "mimetype": "text/x-python",
   "name": "python",
   "nbconvert_exporter": "python",
   "pygments_lexer": "ipython3",
   "version": "3.10.12"
  }
 },
 "nbformat": 4,
 "nbformat_minor": 5
}
