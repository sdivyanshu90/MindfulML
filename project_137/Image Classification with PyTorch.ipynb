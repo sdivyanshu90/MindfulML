{
 "cells": [
  {
   "cell_type": "markdown",
   "id": "2dfd5abc-2a4f-4f01-8e46-9cb6ed111843",
   "metadata": {},
   "source": [
    "## Importing Libraries"
   ]
  },
  {
   "cell_type": "code",
   "execution_count": null,
   "id": "88860472-dc3a-4f82-b155-149573cb1186",
   "metadata": {},
   "outputs": [],
   "source": [
    "import numpy as np\n",
    "import pandas as pd\n",
    "import matplotlib.pyplot as plt\n",
    "\n",
    "import torch\n",
    "import torchvision\n",
    "import torch.nn as nn\n",
    "import torch.optim as optim\n",
    "import torch.nn.functional as F\n",
    "import torchvision.transforms as transforms"
   ]
  },
  {
   "cell_type": "markdown",
   "id": "8c0b5727-67f0-42ac-b6a7-c1b4d7a2a018",
   "metadata": {},
   "source": [
    "## Disable Warnings"
   ]
  },
  {
   "cell_type": "code",
   "execution_count": null,
   "id": "0e2205ec-df91-4716-afc7-b3b2bf1900aa",
   "metadata": {},
   "outputs": [],
   "source": [
    "import warnings\n",
    "warnings.filterwarnings(\"ignore\")\n",
    "warnings.simplefilter(\"ignore\")"
   ]
  },
  {
   "cell_type": "markdown",
   "id": "e6d499a5-c0b4-44ff-9cf0-ef0ae2f2b693",
   "metadata": {},
   "source": [
    "## Load CiFar - 10 Data"
   ]
  },
  {
   "cell_type": "code",
   "execution_count": null,
   "id": "0ec604d0-d77d-4fcb-80ac-40d232d74702",
   "metadata": {},
   "outputs": [],
   "source": [
    "transform = transforms.Compose(\n",
    "    [transforms.ToTensor(),\n",
    "     transforms.Normalize((0.5, 0.5, 0.5), (0.5, 0.5, 0.5))])\n",
    "\n",
    "trainset = torchvision.datasets.CIFAR10(root='./data', train=True,\n",
    "                                        download=True, transform=transform)\n",
    "trainloader = torch.utils.data.DataLoader(trainset, batch_size=4,\n",
    "                                          shuffle=True, num_workers=2)\n",
    "\n",
    "testset = torchvision.datasets.CIFAR10(root='./data', train=False,\n",
    "                                       download=True, transform=transform)\n",
    "testloader = torch.utils.data.DataLoader(testset, batch_size=4,\n",
    "                                         shuffle=False, num_workers=2)\n",
    "\n",
    "classes = ('plane', 'car', 'bird', 'cat',\n",
    "           'deer', 'dog', 'frog', 'horse', 'ship', 'truck')"
   ]
  },
  {
   "cell_type": "raw",
   "id": "014b8aef-71d5-4f36-acde-ed50412fdb14",
   "metadata": {},
   "source": [
    "Files already downloaded and verified\n",
    "Files already downloaded and verified"
   ]
  },
  {
   "cell_type": "markdown",
   "id": "09d8ff53-3045-4a58-b3ea-3ed8019e19cf",
   "metadata": {},
   "source": [
    "## Seeing Image"
   ]
  },
  {
   "cell_type": "code",
   "execution_count": null,
   "id": "06358453-81ed-4137-bc6a-77a25b12319c",
   "metadata": {},
   "outputs": [],
   "source": [
    "def imshow(img):\n",
    "    img = img / 2 + 0.5     # unnormalize\n",
    "    npimg = img.numpy()\n",
    "    plt.imshow(np.transpose(npimg, (1, 2, 0)))\n",
    "    plt.show()\n",
    "\n",
    "\n",
    "# get some random training images\n",
    "dataiter = iter(trainloader)\n",
    "images, labels = next(dataiter)\n",
    "\n",
    "# show images\n",
    "imshow(torchvision.utils.make_grid(images))\n",
    "# print labels\n",
    "print(' '.join('%5s' % classes[labels[j]] for j in range(4)))"
   ]
  },
  {
   "attachments": {
    "f5ab29c8-9671-4567-a35e-f5e3ad83b001.png": {
     "image/png": "[encoded data removed]"
    }
   },
   "cell_type": "markdown",
   "id": "2287f1c2-d8bf-4ce0-bd57-fb7b06ff4f24",
   "metadata": {},
   "source": [
    "![download.png](attachment:f5ab29c8-9671-4567-a35e-f5e3ad83b001.png)\n",
    "\n",
    "truck  deer   cat   car\n"
   ]
  },
  {
   "cell_type": "markdown",
   "id": "2ec7e2c7-77dd-4218-b5fe-2f2fef274032",
   "metadata": {},
   "source": [
    "## CNN Model Creation"
   ]
  },
  {
   "cell_type": "code",
   "execution_count": null,
   "id": "9cf750e1-8f37-4838-bee8-bc3a22ab5296",
   "metadata": {},
   "outputs": [],
   "source": [
    "class Net(nn.Module):\n",
    "    def __init__(self):\n",
    "        super(Net, self).__init__()\n",
    "        self.conv1 = nn.Conv2d(3, 6, 5)\n",
    "        self.pool = nn.MaxPool2d(2, 2)\n",
    "        self.conv2 = nn.Conv2d(6, 16, 5)\n",
    "        self.fc1 = nn.Linear(16 * 5 * 5, 120)\n",
    "        self.fc2 = nn.Linear(120, 84)\n",
    "        self.fc3 = nn.Linear(84, 10)\n",
    "\n",
    "    def forward(self, x):\n",
    "        x = self.pool(F.relu(self.conv1(x)))\n",
    "        x = self.pool(F.relu(self.conv2(x)))\n",
    "        x = x.view(-1, 16 * 5 * 5)\n",
    "        x = F.relu(self.fc1(x))\n",
    "        x = F.relu(self.fc2(x))\n",
    "        x = self.fc3(x)\n",
    "        return x"
   ]
  },
  {
   "cell_type": "markdown",
   "id": "202f1bb6-096e-49eb-aa76-508f84a3e740",
   "metadata": {},
   "source": [
    "## Model Initialization"
   ]
  },
  {
   "cell_type": "code",
   "execution_count": null,
   "id": "55f7809f-4e8e-4741-9f10-6eb3875cd424",
   "metadata": {},
   "outputs": [],
   "source": [
    "net = Net()"
   ]
  },
  {
   "cell_type": "markdown",
   "id": "516222e9-2f98-4175-a395-b62c31a890c6",
   "metadata": {},
   "source": [
    "## Defining Loss Function"
   ]
  },
  {
   "cell_type": "code",
   "execution_count": null,
   "id": "acd3d22c-5d72-468d-9f6f-ed3e872e2030",
   "metadata": {},
   "outputs": [],
   "source": [
    "criterion = nn.CrossEntropyLoss()\n",
    "optimizer = optim.SGD(net.parameters(), lr=0.001, momentum=0.9)"
   ]
  },
  {
   "cell_type": "code",
   "execution_count": null,
   "id": "00ebb8fa-7319-475d-8a53-0d99a3017daf",
   "metadata": {},
   "outputs": [],
   "source": [
    "for epoch in range(2):  # loop over the dataset multiple times\n",
    "\n",
    "    running_loss = 0.0\n",
    "    for i, data in enumerate(trainloader, 0):\n",
    "        # get the inputs; data is a list of [inputs, labels]\n",
    "        inputs, labels = data\n",
    "\n",
    "        # zero the parameter gradients\n",
    "        optimizer.zero_grad()\n",
    "\n",
    "        # forward + backward + optimize\n",
    "        outputs = net(inputs)\n",
    "        loss = criterion(outputs, labels)\n",
    "        loss.backward()\n",
    "        optimizer.step()\n",
    "\n",
    "        # print statistics\n",
    "        running_loss += loss.item()\n",
    "        if i % 2000 == 1999:    # print every 2000 mini-batches\n",
    "            print('[%d, %5d] loss: %.3f' %\n",
    "                  (epoch + 1, i + 1, running_loss / 2000))\n",
    "            running_loss = 0.0\n",
    "\n",
    "print('Finished Training')"
   ]
  },
  {
   "cell_type": "raw",
   "id": "370e0f8d-18fd-4b75-83d7-8c01d9a43ddb",
   "metadata": {},
   "source": [
    "[1,  2000] loss: 2.168\n",
    "[1,  4000] loss: 1.825\n",
    "[1,  6000] loss: 1.689\n",
    "[1,  8000] loss: 1.597\n",
    "[1, 10000] loss: 1.552\n",
    "[1, 12000] loss: 1.476\n",
    "[2,  2000] loss: 1.417\n",
    "[2,  4000] loss: 1.391\n",
    "[2,  6000] loss: 1.363\n",
    "[2,  8000] loss: 1.361\n",
    "[2, 10000] loss: 1.310\n",
    "[2, 12000] loss: 1.298\n",
    "Finished Training"
   ]
  },
  {
   "cell_type": "code",
   "execution_count": null,
   "id": "10cdf606-2e2e-4761-a274-edb79ecab0c2",
   "metadata": {},
   "outputs": [],
   "source": [
    "PATH = './cifar_net.pth'\n",
    "torch.save(net.state_dict(), PATH)"
   ]
  },
  {
   "cell_type": "code",
   "execution_count": null,
   "id": "ff67d81d-30e6-4b07-ba2f-73ca4971ba7e",
   "metadata": {},
   "outputs": [],
   "source": [
    "dataiter = iter(testloader)\n",
    "images, labels = dataiter.next()\n",
    "\n",
    "# print images\n",
    "imshow(torchvision.utils.make_grid(images))\n",
    "print('GroundTruth: ', ' '.join('%5s' % classes[labels[j]] for j in range(4)))"
   ]
  },
  {
   "attachments": {
    "c0a88c41-70bc-4f25-b311-167b415d77f4.png": {
     "image/png": "[encoded data removed]"
    }
   },
   "cell_type": "markdown",
   "id": "faf297ae-f9de-43aa-a3c5-709d8643d4d5",
   "metadata": {},
   "source": [
    "![download.png](attachment:c0a88c41-70bc-4f25-b311-167b415d77f4.png)\n",
    "\n",
    "GroundTruth:    cat  ship  ship plane"
   ]
  },
  {
   "cell_type": "markdown",
   "id": "328c1680-6e8a-4222-af45-19a0bc4232a8",
   "metadata": {},
   "source": [
    "## Loading our Saved Model"
   ]
  },
  {
   "cell_type": "code",
   "execution_count": null,
   "id": "b4c0766f-fcde-4750-9848-124cd0135be7",
   "metadata": {},
   "outputs": [],
   "source": [
    "net = Net()\n",
    "net.load_state_dict(torch.load(PATH))"
   ]
  },
  {
   "cell_type": "markdown",
   "id": "0f75130c-f410-432b-8ba1-63f22807ce04",
   "metadata": {},
   "source": [
    "<All keys matched successfully>"
   ]
  },
  {
   "cell_type": "code",
   "execution_count": null,
   "id": "5b6be431-6486-48ea-a964-eb906f6f97e7",
   "metadata": {},
   "outputs": [],
   "source": [
    "outputs = net(images)\n",
    "_, predicted = torch.max(outputs, 1)\n",
    "\n",
    "print('Predicted: ', ' '.join('%5s' % classes[predicted[j]]\n",
    "                              for j in range(4)))"
   ]
  },
  {
   "cell_type": "markdown",
   "id": "19ba190b-7e86-45e7-bce9-df912e5fde96",
   "metadata": {},
   "source": [
    "Predicted:    cat  ship  ship  ship"
   ]
  },
  {
   "cell_type": "code",
   "execution_count": null,
   "id": "b35b8a06-f6ec-47b9-99c6-8dc4d6a69e6e",
   "metadata": {},
   "outputs": [],
   "source": [
    "correct = 0\n",
    "total = 0\n",
    "with torch.no_grad():\n",
    "    for data in testloader:\n",
    "        images, labels = data\n",
    "        outputs = net(images)\n",
    "        _, predicted = torch.max(outputs.data, 1)\n",
    "        total += labels.size(0)\n",
    "        correct += (predicted == labels).sum().item()\n",
    "\n",
    "print('Accuracy of the network on the 10000 test images: %d %%' % (\n",
    "    100 * correct / total))"
   ]
  },
  {
   "cell_type": "markdown",
   "id": "ae5075fd-a688-4034-b277-33b0c36b9c2e",
   "metadata": {},
   "source": [
    "Accuracy of the network on the 10000 test images: 73 %"
   ]
  },
  {
   "cell_type": "code",
   "execution_count": null,
   "id": "4c96c984-475a-46af-802c-69130424670d",
   "metadata": {},
   "outputs": [],
   "source": [
    "class_correct = list(0. for i in range(10))\n",
    "class_total = list(0. for i in range(10))\n",
    "with torch.no_grad():\n",
    "    for data in testloader:\n",
    "        images, labels = data\n",
    "        outputs = net(images)\n",
    "        _, predicted = torch.max(outputs, 1)\n",
    "        c = (predicted == labels).squeeze()\n",
    "        for i in range(4):\n",
    "            label = labels[i]\n",
    "            class_correct[label] += c[i].item()\n",
    "            class_total[label] += 1\n",
    "\n",
    "\n",
    "for i in range(10):\n",
    "    print('Accuracy of %5s : %2d %%' % (\n",
    "        classes[i], 100 * class_correct[i] / class_total[i]))"
   ]
  },
  {
   "cell_type": "raw",
   "id": "5f2e09a8-39a3-4f25-befb-85716ee94abf",
   "metadata": {},
   "source": [
    "Accuracy of plane : 44 %\n",
    "Accuracy of   car : 56 %\n",
    "Accuracy of  bird : 44 %\n",
    "Accuracy of   cat : 25 %\n",
    "Accuracy of  deer : 21 %\n",
    "Accuracy of   dog : 60 %\n",
    "Accuracy of  frog : 75 %\n",
    "Accuracy of horse : 55 %\n",
    "Accuracy of  ship : 80 %\n",
    "Accuracy of truck : 66 %"
   ]
  }
 ],
 "metadata": {
  "kernelspec": {
   "display_name": "Python 3 (ipykernel)",
   "language": "python",
   "name": "python3"
  },
  "language_info": {
   "codemirror_mode": {
    "name": "ipython",
    "version": 3
   },
   "file_extension": ".py",
   "mimetype": "text/x-python",
   "name": "python",
   "nbconvert_exporter": "python",
   "pygments_lexer": "ipython3",
   "version": "3.10.12"
  }
 },
 "nbformat": 4,
 "nbformat_minor": 5
}
