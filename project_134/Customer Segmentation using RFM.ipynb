{
 "cells": [
  {
   "cell_type": "markdown",
   "id": "fda05c53-63e2-4e57-8070-4a54e52f43ee",
   "metadata": {},
   "source": [
    "## RFM\n",
    "This technique is based on three main categories, they are:\n",
    "<li><b>Recency(R)</b> – Days since last purchase</li>\n",
    "<li><b>Frequency(F)</b> – Total number of purchases</li>\n",
    "<li><b>Monetary Value(M)</b> – How much total money the customer spent</li>"
   ]
  },
  {
   "cell_type": "markdown",
   "id": "146bd324-f920-42b8-bfe9-fcc7def01c13",
   "metadata": {},
   "source": [
    "## Importing Libraries"
   ]
  },
  {
   "cell_type": "code",
   "execution_count": 1,
   "id": "530123d0-131e-49e6-b29a-4f7ba6611077",
   "metadata": {},
   "outputs": [],
   "source": [
    "import numpy as np\n",
    "import pandas as pd\n",
    "import seaborn as sns\n",
    "import datetime as dt\n",
    "import matplotlib.pyplot as plt"
   ]
  },
  {
   "cell_type": "markdown",
   "id": "4e67659a-f74f-42c2-a936-dd4ec8753940",
   "metadata": {},
   "source": [
    "## Disable Warnings"
   ]
  },
  {
   "cell_type": "code",
   "execution_count": 2,
   "id": "28893a9b-a3db-43e9-894e-cf29f4956877",
   "metadata": {},
   "outputs": [],
   "source": [
    "import warnings\n",
    "warnings.filterwarnings(\"ignore\")\n",
    "warnings.simplefilter(\"ignore\")"
   ]
  },
  {
   "cell_type": "markdown",
   "id": "a354ed18-54a0-4ed4-90fd-a10dc685622b",
   "metadata": {},
   "source": [
    "## Load Data"
   ]
  },
  {
   "cell_type": "code",
   "execution_count": null,
   "id": "5cfb0b14-8e4e-4720-a808-b95a08525c42",
   "metadata": {},
   "outputs": [],
   "source": [
    "df = pd.read_excel(\"customer.xlsx\")"
   ]
  },
  {
   "cell_type": "code",
   "execution_count": null,
   "id": "170fc821-4aff-4563-9cbf-4f012b29a78f",
   "metadata": {},
   "outputs": [],
   "source": [
    "df"
   ]
  },
  {
   "cell_type": "markdown",
   "id": "da6b042e-86d9-4226-9edc-b5482236b8de",
   "metadata": {},
   "source": [
    "## Data Statistics"
   ]
  },
  {
   "cell_type": "code",
   "execution_count": null,
   "id": "0eab780f-1c1d-4ed4-b2e1-e25280409687",
   "metadata": {},
   "outputs": [],
   "source": [
    "df.info()"
   ]
  },
  {
   "cell_type": "code",
   "execution_count": null,
   "id": "ba5a0e3c-9721-4325-8fd8-c781c4aa316d",
   "metadata": {},
   "outputs": [],
   "source": [
    "df.describe()"
   ]
  },
  {
   "cell_type": "code",
   "execution_count": null,
   "id": "ff7bcaf8-bce7-4bcb-9841-85518b90f37f",
   "metadata": {},
   "outputs": [],
   "source": [
    "df.isna().sum"
   ]
  },
  {
   "cell_type": "code",
   "execution_count": null,
   "id": "b56d513e-e941-43b2-a69f-dff19bc26fe9",
   "metadata": {},
   "outputs": [],
   "source": [
    "df.isnull().sum()"
   ]
  },
  {
   "cell_type": "code",
   "execution_count": null,
   "id": "c37a6469-41c6-46a1-9cca-6bc2bfa30c73",
   "metadata": {},
   "outputs": [],
   "source": [
    "df = df.dropna()"
   ]
  },
  {
   "cell_type": "code",
   "execution_count": null,
   "id": "6b072a8b-ca04-4007-b1c7-12ca251af7f5",
   "metadata": {},
   "outputs": [],
   "source": [
    "df1 = df"
   ]
  },
  {
   "cell_type": "code",
   "execution_count": null,
   "id": "67771809-1161-4369-a46d-1761f73bcb0f",
   "metadata": {},
   "outputs": [],
   "source": [
    "df1.Country.nunique()"
   ]
  },
  {
   "cell_type": "code",
   "execution_count": null,
   "id": "922814e9-406b-4920-ae4b-1678d842b17d",
   "metadata": {},
   "outputs": [],
   "source": [
    "customer_country=df1[['Country','CustomerID']].drop_duplicates()\n",
    "customer_country.groupby(['Country'])['CustomerID'].aggregate('count').reset_index().sort_values('CustomerID', ascending=False)"
   ]
  },
  {
   "cell_type": "code",
   "execution_count": null,
   "id": "bb5ab5eb-dddd-4347-bf68-809ce1111d08",
   "metadata": {},
   "outputs": [],
   "source": [
    "df1 = df1.loc[df1['Country'] == 'United Kingdom']"
   ]
  },
  {
   "cell_type": "code",
   "execution_count": null,
   "id": "d6516c6d-2faa-483e-bd5f-6e7cc575a075",
   "metadata": {},
   "outputs": [],
   "source": [
    "df1 = df1[pd.notnull(df1['CustomerID'])]"
   ]
  },
  {
   "cell_type": "code",
   "execution_count": null,
   "id": "af8443c2-b4c6-4b4e-bc20-c0dc8a890507",
   "metadata": {},
   "outputs": [],
   "source": [
    "df1 = df1[(df1['Quantity']>=0)]"
   ]
  },
  {
   "cell_type": "code",
   "execution_count": null,
   "id": "78ac1656-3f6a-4809-9370-98838cb3d1b1",
   "metadata": {},
   "outputs": [],
   "source": [
    "df1['TotalPrice'] = df1['Quantity'] * df1['UnitPrice']"
   ]
  },
  {
   "cell_type": "code",
   "execution_count": null,
   "id": "357a2923-18da-414e-8172-6ca9af40ac27",
   "metadata": {},
   "outputs": [],
   "source": [
    "df1['InvoiceDate'].min()"
   ]
  },
  {
   "cell_type": "code",
   "execution_count": null,
   "id": "40cb5b08-4000-4db3-8df9-f95896154e3a",
   "metadata": {},
   "outputs": [],
   "source": [
    "df1['InvoiceDate'].max()"
   ]
  },
  {
   "cell_type": "code",
   "execution_count": null,
   "id": "5109f2e4-87cc-402f-8c81-cc7e3b6eb0b3",
   "metadata": {},
   "outputs": [],
   "source": [
    "NOW = dt.datetime(2011,12,10)\n",
    "df1['InvoiceDate'] = pd.to_datetime(df1['InvoiceDate'])"
   ]
  },
  {
   "cell_type": "markdown",
   "id": "95b7076d-7f13-40e3-b7ca-6dc79523f7a6",
   "metadata": {},
   "source": [
    "## RFM Customer Segmentation"
   ]
  },
  {
   "cell_type": "code",
   "execution_count": null,
   "id": "63f4e5bc-d4ef-407a-8bbf-bf1148970c99",
   "metadata": {},
   "outputs": [],
   "source": [
    "rfmTable = df1.groupby('CustomerID').agg({'InvoiceDate': lambda x: (NOW - x.max()).days, 'InvoiceNo': lambda x: len(x), 'TotalPrice': lambda x: x.sum()})\n",
    "rfmTable['InvoiceDate'] = rfmTable['InvoiceDate'].astype(int)\n",
    "rfmTable.rename(columns={'InvoiceDate': 'recency', \n",
    "                         'InvoiceNo': 'frequency', \n",
    "                         'TotalPrice': 'monetary_value'}, inplace=True)"
   ]
  },
  {
   "cell_type": "code",
   "execution_count": null,
   "id": "f5f7f637-f208-4b04-88a8-1f7c49f763b8",
   "metadata": {},
   "outputs": [],
   "source": [
    "rfmTable.head()"
   ]
  },
  {
   "cell_type": "markdown",
   "id": "c6890225-5e8c-4110-9dbd-6998718a6fbf",
   "metadata": {},
   "source": [
    "### Split the metrics"
   ]
  },
  {
   "cell_type": "code",
   "execution_count": null,
   "id": "cfda55d7-05e2-4e36-aa71-a4a204179732",
   "metadata": {},
   "outputs": [],
   "source": [
    "quantiles = rfmTable.quantile(q=[0.25,0.5,0.75])\n",
    "quantiles = quantiles.to_dict()"
   ]
  },
  {
   "cell_type": "markdown",
   "id": "37b96d11-f7be-4173-b897-a5bfe93a3faf",
   "metadata": {},
   "source": [
    "### Create a Customer Segment RFM table"
   ]
  },
  {
   "cell_type": "code",
   "execution_count": null,
   "id": "c18ff69b-ccfd-4a0f-b3b4-73c65e40f111",
   "metadata": {},
   "outputs": [],
   "source": [
    "segmented_rfm = rfmTable"
   ]
  },
  {
   "cell_type": "code",
   "execution_count": null,
   "id": "258b414b-6fd4-4dac-b9f4-caf4c1c40f24",
   "metadata": {},
   "outputs": [],
   "source": [
    "def RScore(x,p,d):\n",
    "    if x <= d[p][0.25]:\n",
    "        return 1\n",
    "    elif x <= d[p][0.50]:\n",
    "        return 2\n",
    "    elif x <= d[p][0.75]: \n",
    "        return 3\n",
    "    else:\n",
    "        return 4\n",
    "    \n",
    "def FMScore(x,p,d):\n",
    "    if x <= d[p][0.25]:\n",
    "        return 4\n",
    "    elif x <= d[p][0.50]:\n",
    "        return 3\n",
    "    elif x <= d[p][0.75]: \n",
    "        return 2\n",
    "    else:\n",
    "        return 1"
   ]
  },
  {
   "cell_type": "markdown",
   "id": "a4efdf9f-59ce-4951-9226-8fb09b23d194",
   "metadata": {},
   "source": [
    "### Add segment numbers"
   ]
  },
  {
   "cell_type": "code",
   "execution_count": null,
   "id": "77a2b9ca-f827-4346-8cca-4f0914a3cdf1",
   "metadata": {},
   "outputs": [],
   "source": [
    "segmented_rfm['r_quartile'] = segmented_rfm['recency'].apply(RScore, args=('recency',quantiles,))\n",
    "segmented_rfm['f_quartile'] = segmented_rfm['frequency'].apply(FMScore, args=('frequency',quantiles,))\n",
    "segmented_rfm['m_quartile'] = segmented_rfm['monetary_value'].apply(FMScore, args=('monetary_value',quantiles,))\n",
    "segmented_rfm.head()"
   ]
  },
  {
   "cell_type": "code",
   "execution_count": null,
   "id": "e3df068b-87cf-4b5c-835f-33a58cd82258",
   "metadata": {},
   "outputs": [],
   "source": [
    "segmented_rfm['RFMScore'] = segmented_rfm.r_quartile.map(str) + segmented_rfm.f_quartile.map(str) + segmented_rfm.m_quartile.map(str)\n",
    "segmented_rfm.head()"
   ]
  },
  {
   "cell_type": "code",
   "execution_count": null,
   "id": "6fd67bbd-c272-4e14-a9d0-954cecd60b40",
   "metadata": {},
   "outputs": [],
   "source": [
    "segmented_rfm[segmented_rfm['RFMScore']=='111'].sort_values('monetary_value', ascending=False).head(10)"
   ]
  }
 ],
 "metadata": {
  "kernelspec": {
   "display_name": "Python 3 (ipykernel)",
   "language": "python",
   "name": "python3"
  },
  "language_info": {
   "codemirror_mode": {
    "name": "ipython",
    "version": 3
   },
   "file_extension": ".py",
   "mimetype": "text/x-python",
   "name": "python",
   "nbconvert_exporter": "python",
   "pygments_lexer": "ipython3",
   "version": "3.10.12"
  }
 },
 "nbformat": 4,
 "nbformat_minor": 5
}
