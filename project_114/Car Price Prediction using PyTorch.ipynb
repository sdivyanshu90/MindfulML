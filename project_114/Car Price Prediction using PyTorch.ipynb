{
 "cells": [
  {
   "cell_type": "code",
   "execution_count": null,
   "id": "f76c34f3-c912-4f0a-a645-d3d46510a924",
   "metadata": {},
   "outputs": [],
   "source": [
    "%pip install jovian\n",
    "\n",
    "# Import libraries\n",
    "import torch\n",
    "import torchvision\n",
    "import torch.nn as nn\n",
    "import pandas as pd\n",
    "import matplotlib.pyplot as plt\n",
    "import torch.nn.functional as F\n",
    "import seaborn as sns\n",
    "from torchvision.datasets.utils import download_url\n",
    "from torch.utils.data import DataLoader, TensorDataset, random_split"
   ]
  },
  {
   "cell_type": "code",
   "execution_count": null,
   "id": "24d542b9-5df5-4b74-ba7a-9798f5a9fec2",
   "metadata": {},
   "outputs": [],
   "source": [
    "# Disable warnings\n",
    "import warnings\n",
    "warnings.filterwarnings(\"ignore\")\n",
    "warnings.simplefilter(\"ignore\")"
   ]
  },
  {
   "cell_type": "code",
   "execution_count": 3,
   "id": "e9303e36-e735-4451-a9b6-ad6bc9a9b216",
   "metadata": {},
   "outputs": [
    {
     "data": {
      "text/html": [
       "<div>\n",
       "<style scoped>\n",
       "    .dataframe tbody tr th:only-of-type {\n",
       "        vertical-align: middle;\n",
       "    }\n",
       "\n",
       "    .dataframe tbody tr th {\n",
       "        vertical-align: top;\n",
       "    }\n",
       "\n",
       "    .dataframe thead th {\n",
       "        text-align: right;\n",
       "    }\n",
       "</style>\n",
       "<table border=\"1\" class=\"dataframe\">\n",
       "  <thead>\n",
       "    <tr style=\"text-align: right;\">\n",
       "      <th></th>\n",
       "      <th>Year</th>\n",
       "      <th>Selling_Price</th>\n",
       "      <th>Present_Price</th>\n",
       "      <th>Fuel_Type</th>\n",
       "      <th>Seller_Type</th>\n",
       "      <th>Transmission</th>\n",
       "      <th>Owner</th>\n",
       "    </tr>\n",
       "  </thead>\n",
       "  <tbody>\n",
       "    <tr>\n",
       "      <th>0</th>\n",
       "      <td>2014</td>\n",
       "      <td>3.35</td>\n",
       "      <td>5.59</td>\n",
       "      <td>Petrol</td>\n",
       "      <td>Dealer</td>\n",
       "      <td>Manual</td>\n",
       "      <td>0</td>\n",
       "    </tr>\n",
       "    <tr>\n",
       "      <th>1</th>\n",
       "      <td>2013</td>\n",
       "      <td>4.75</td>\n",
       "      <td>9.54</td>\n",
       "      <td>Diesel</td>\n",
       "      <td>Dealer</td>\n",
       "      <td>Manual</td>\n",
       "      <td>0</td>\n",
       "    </tr>\n",
       "    <tr>\n",
       "      <th>2</th>\n",
       "      <td>2017</td>\n",
       "      <td>7.25</td>\n",
       "      <td>9.85</td>\n",
       "      <td>Petrol</td>\n",
       "      <td>Dealer</td>\n",
       "      <td>Manual</td>\n",
       "      <td>0</td>\n",
       "    </tr>\n",
       "    <tr>\n",
       "      <th>3</th>\n",
       "      <td>2011</td>\n",
       "      <td>2.85</td>\n",
       "      <td>4.15</td>\n",
       "      <td>Petrol</td>\n",
       "      <td>Dealer</td>\n",
       "      <td>Manual</td>\n",
       "      <td>0</td>\n",
       "    </tr>\n",
       "    <tr>\n",
       "      <th>4</th>\n",
       "      <td>2014</td>\n",
       "      <td>4.60</td>\n",
       "      <td>6.87</td>\n",
       "      <td>Diesel</td>\n",
       "      <td>Dealer</td>\n",
       "      <td>Manual</td>\n",
       "      <td>0</td>\n",
       "    </tr>\n",
       "    <tr>\n",
       "      <th>...</th>\n",
       "      <td>...</td>\n",
       "      <td>...</td>\n",
       "      <td>...</td>\n",
       "      <td>...</td>\n",
       "      <td>...</td>\n",
       "      <td>...</td>\n",
       "      <td>...</td>\n",
       "    </tr>\n",
       "    <tr>\n",
       "      <th>296</th>\n",
       "      <td>2016</td>\n",
       "      <td>9.50</td>\n",
       "      <td>11.60</td>\n",
       "      <td>Diesel</td>\n",
       "      <td>Dealer</td>\n",
       "      <td>Manual</td>\n",
       "      <td>0</td>\n",
       "    </tr>\n",
       "    <tr>\n",
       "      <th>297</th>\n",
       "      <td>2015</td>\n",
       "      <td>4.00</td>\n",
       "      <td>5.90</td>\n",
       "      <td>Petrol</td>\n",
       "      <td>Dealer</td>\n",
       "      <td>Manual</td>\n",
       "      <td>0</td>\n",
       "    </tr>\n",
       "    <tr>\n",
       "      <th>298</th>\n",
       "      <td>2009</td>\n",
       "      <td>3.35</td>\n",
       "      <td>11.00</td>\n",
       "      <td>Petrol</td>\n",
       "      <td>Dealer</td>\n",
       "      <td>Manual</td>\n",
       "      <td>0</td>\n",
       "    </tr>\n",
       "    <tr>\n",
       "      <th>299</th>\n",
       "      <td>2017</td>\n",
       "      <td>11.50</td>\n",
       "      <td>12.50</td>\n",
       "      <td>Diesel</td>\n",
       "      <td>Dealer</td>\n",
       "      <td>Manual</td>\n",
       "      <td>0</td>\n",
       "    </tr>\n",
       "    <tr>\n",
       "      <th>300</th>\n",
       "      <td>2016</td>\n",
       "      <td>5.30</td>\n",
       "      <td>5.90</td>\n",
       "      <td>Petrol</td>\n",
       "      <td>Dealer</td>\n",
       "      <td>Manual</td>\n",
       "      <td>0</td>\n",
       "    </tr>\n",
       "  </tbody>\n",
       "</table>\n",
       "<p>301 rows × 7 columns</p>\n",
       "</div>"
      ],
      "text/plain": [
       "     Year  Selling_Price  Present_Price Fuel_Type Seller_Type Transmission  \\\n",
       "0    2014           3.35           5.59    Petrol      Dealer       Manual   \n",
       "1    2013           4.75           9.54    Diesel      Dealer       Manual   \n",
       "2    2017           7.25           9.85    Petrol      Dealer       Manual   \n",
       "3    2011           2.85           4.15    Petrol      Dealer       Manual   \n",
       "4    2014           4.60           6.87    Diesel      Dealer       Manual   \n",
       "..    ...            ...            ...       ...         ...          ...   \n",
       "296  2016           9.50          11.60    Diesel      Dealer       Manual   \n",
       "297  2015           4.00           5.90    Petrol      Dealer       Manual   \n",
       "298  2009           3.35          11.00    Petrol      Dealer       Manual   \n",
       "299  2017          11.50          12.50    Diesel      Dealer       Manual   \n",
       "300  2016           5.30           5.90    Petrol      Dealer       Manual   \n",
       "\n",
       "     Owner  \n",
       "0        0  \n",
       "1        0  \n",
       "2        0  \n",
       "3        0  \n",
       "4        0  \n",
       "..     ...  \n",
       "296      0  \n",
       "297      0  \n",
       "298      0  \n",
       "299      0  \n",
       "300      0  \n",
       "\n",
       "[301 rows x 7 columns]"
      ]
     },
     "execution_count": 3,
     "metadata": {},
     "output_type": "execute_result"
    }
   ],
   "source": [
    "dataframe = pd.read_csv(\"car_price_data.csv\")\n",
    "dataframe = dataframe.drop(['Car_Name', 'Kms_Driven'], axis=1) # Exclude columns that we won't use\n",
    "dataframe"
   ]
  },
  {
   "cell_type": "code",
   "execution_count": null,
   "id": "5ac38ba3-3858-43ea-85fb-bc8037dc3cb9",
   "metadata": {},
   "outputs": [],
   "source": [
    "num_rows = len(dataframe)\n",
    "input_cols = ['Year','Selling_Price','Fuel_Type','Seller_Type','Transmission','Owner']\n",
    "categorical_cols = ['Year', 'Fuel_Type', 'Seller_Type', 'Transmission', 'Owner']\n",
    "output_cols = ['Present_Price']"
   ]
  },
  {
   "cell_type": "code",
   "execution_count": null,
   "id": "eab2f0fc-6b6e-4f94-aa12-e58cc3914189",
   "metadata": {},
   "outputs": [],
   "source": [
    "print('Minimun Charge: {}'.format(dataframe.Present_Price.min()))\n",
    "print('Average Charge: {}'.format(dataframe.Present_Price.mean()))\n",
    "print('Maximun Charge: {}'.format(dataframe.Present_Price.max()))"
   ]
  },
  {
   "cell_type": "raw",
   "id": "a9f8af01-3a4f-4652-9384-e39b797ce86c",
   "metadata": {},
   "source": [
    "Minimun Charge: 0.32\n",
    "Average Charge: 7.628471760797343\n",
    "Maximun Charge: 92.6"
   ]
  },
  {
   "cell_type": "code",
   "execution_count": null,
   "id": "f0d49108-d0f9-4331-aa01-29aff0023bdf",
   "metadata": {},
   "outputs": [],
   "source": [
    "plt.title(\"Distribution of Showroom Price\")\n",
    "sns.distplot(dataframe.Present_Price, kde=False);"
   ]
  },
  {
   "attachments": {
    "3693689b-966b-43f0-964b-99c1f23d161d.png": {
     "image/png": "[encoded data removed]"
    }
   },
   "cell_type": "markdown",
   "id": "e5bf0e6c-9000-493a-8a0b-785e8762c567",
   "metadata": {},
   "source": [
    "![Showroom Price.png](attachment:3693689b-966b-43f0-964b-99c1f23d161d.png)"
   ]
  },
  {
   "cell_type": "code",
   "execution_count": null,
   "id": "c6b1ab90-4d32-42e8-8138-025ade9fddda",
   "metadata": {},
   "outputs": [],
   "source": [
    "def dataframe_to_arrays(dataframe):\n",
    "    # Make a copy of the original dataframe\n",
    "    dataframe1 = dataframe.copy(deep=True)\n",
    "    # Convert non-numeric categorical columns to numbers\n",
    "    for col in categorical_cols:\n",
    "        dataframe1[col] = dataframe1[col].astype('category').cat.codes\n",
    "    # Extract input & outupts as numpy arrays\n",
    "    inputs_array = dataframe1[input_cols].to_numpy()\n",
    "    targets_array = dataframe1[output_cols].to_numpy()\n",
    "    return inputs_array, targets_array"
   ]
  },
  {
   "cell_type": "code",
   "execution_count": null,
   "id": "d5c3a3ce-fb9c-40a3-a374-8f512d40642a",
   "metadata": {},
   "outputs": [],
   "source": [
    "inputs_array, targets_array = dataframe_to_arrays(dataframe) # Create arrays for inputs and targets\n",
    "inputs_array, targets_array\n",
    "\n",
    "inputs = torch.from_numpy(inputs_array).float()\n",
    "targets = torch.from_numpy(targets_array).float()"
   ]
  },
  {
   "cell_type": "code",
   "execution_count": null,
   "id": "10239469-ab5d-490c-8061-354af796eb1f",
   "metadata": {},
   "outputs": [],
   "source": [
    "dataset = TensorDataset(inputs, targets)"
   ]
  },
  {
   "cell_type": "code",
   "execution_count": null,
   "id": "8190c262-f7ea-4a12-83b7-314603cece45",
   "metadata": {},
   "outputs": [],
   "source": [
    "val_percent = 0.1\n",
    "val_size = int(num_rows * val_percent)\n",
    "train_size = num_rows - val_size\n",
    "\n",
    "train_ds, val_ds = random_split(dataset, [train_size, val_size]) # split dataset into 2 parts of the desired length"
   ]
  },
  {
   "cell_type": "code",
   "execution_count": null,
   "id": "06140ac9-936d-4ab2-87f1-a25a131b7782",
   "metadata": {},
   "outputs": [],
   "source": [
    "batch_size = 50\n",
    "train_loader = DataLoader(train_ds, batch_size, shuffle=True)\n",
    "val_loader = DataLoader(val_ds, batch_size)"
   ]
  },
  {
   "cell_type": "code",
   "execution_count": null,
   "id": "033ca080-fc39-4990-b8d5-cf7cb67ebb45",
   "metadata": {},
   "outputs": [],
   "source": [
    "for xb, yb in train_loader:\n",
    "    print(\"inputs:\", xb)\n",
    "    print(\"targets:\", yb)\n",
    "    break"
   ]
  },
  {
   "cell_type": "raw",
   "id": "fcd32e64-a6c6-4cdb-abd2-5a15d6798d2c",
   "metadata": {},
   "source": [
    "inputs: tensor([[ 9.0000,  2.0000,  2.0000,  0.0000,  1.0000,  0.0000],\n",
    "        [14.0000,  9.1000,  2.0000,  0.0000,  1.0000,  0.0000],\n",
    "        [10.0000,  0.2000,  2.0000,  1.0000,  1.0000,  1.0000],\n",
    "        [13.0000,  6.4000,  2.0000,  0.0000,  1.0000,  0.0000],\n",
    "        [12.0000,  4.4000,  2.0000,  0.0000,  1.0000,  0.0000],\n",
    "        [12.0000,  0.6500,  2.0000,  1.0000,  1.0000,  0.0000],\n",
    "        [14.0000, 33.0000,  1.0000,  0.0000,  0.0000,  0.0000],\n",
    "        [10.0000,  0.3000,  2.0000,  1.0000,  1.0000,  0.0000],\n",
    "        [12.0000,  0.6000,  2.0000,  1.0000,  1.0000,  0.0000],\n",
    "        [ 3.0000,  1.0500,  2.0000,  0.0000,  1.0000,  0.0000],\n",
    "        [12.0000,  1.1100,  2.0000,  1.0000,  1.0000,  0.0000],\n",
    "        [ 8.0000,  2.9500,  0.0000,  0.0000,  1.0000,  0.0000],\n",
    "        [12.0000,  5.7500,  2.0000,  0.0000,  0.0000,  0.0000],\n",
    "        [13.0000,  8.9900,  2.0000,  0.0000,  1.0000,  0.0000],\n",
    "        [14.0000,  7.9000,  2.0000,  0.0000,  1.0000,  0.0000],\n",
    "        [10.0000,  4.8000,  2.0000,  0.0000,  1.0000,  0.0000],\n",
    "        [15.0000,  9.2500,  1.0000,  0.0000,  1.0000,  0.0000],\n",
    "        [12.0000,  4.7500,  1.0000,  0.0000,  1.0000,  0.0000],\n",
    "        [13.0000, 10.2500,  2.0000,  0.0000,  1.0000,  0.0000],\n",
    "        [ 9.0000,  3.0000,  2.0000,  0.0000,  1.0000,  0.0000],\n",
    "        [ 8.0000,  2.3500,  2.0000,  0.0000,  1.0000,  0.0000],\n",
    "        [11.0000,  7.2000,  1.0000,  0.0000,  1.0000,  0.0000],\n",
    "        [ 8.0000,  0.3500,  2.0000,  1.0000,  1.0000,  0.0000],\n",
    "        [14.0000,  0.7500,  2.0000,  1.0000,  1.0000,  0.0000],\n",
    "        [10.0000,  3.4500,  2.0000,  0.0000,  1.0000,  0.0000],\n",
    "        [12.0000,  1.1500,  2.0000,  1.0000,  1.0000,  0.0000],\n",
    "        [13.0000,  0.6000,  2.0000,  1.0000,  1.0000,  0.0000],\n",
    "        [13.0000, 14.7300,  1.0000,  0.0000,  1.0000,  0.0000],\n",
    "        [11.0000,  3.7500,  2.0000,  0.0000,  1.0000,  0.0000],\n",
    "        [13.0000,  0.4500,  2.0000,  1.0000,  1.0000,  0.0000],\n",
    "        [11.0000,  1.3500,  2.0000,  1.0000,  1.0000,  1.0000],\n",
    "        [10.0000,  5.0000,  2.0000,  0.0000,  1.0000,  0.0000],\n",
    "        [10.0000,  6.1500,  1.0000,  0.0000,  1.0000,  0.0000],\n",
    "        [11.0000,  0.6500,  2.0000,  1.0000,  1.0000,  0.0000],\n",
    "        [13.0000,  0.6000,  2.0000,  1.0000,  1.0000,  0.0000],\n",
    "        [12.0000,  5.9500,  2.0000,  0.0000,  1.0000,  0.0000],\n",
    "        [13.0000,  0.7200,  2.0000,  1.0000,  1.0000,  0.0000],\n",
    "        [ 8.0000,  0.1500,  2.0000,  1.0000,  1.0000,  1.0000],\n",
    "        [13.0000,  6.6000,  2.0000,  0.0000,  1.0000,  0.0000],\n",
    "        [12.0000,  6.8500,  1.0000,  0.0000,  1.0000,  0.0000],\n",
    "        [13.0000,  3.1000,  2.0000,  0.0000,  1.0000,  0.0000],\n",
    "        [12.0000,  4.6500,  2.0000,  0.0000,  1.0000,  0.0000],\n",
    "        [11.0000,  3.3500,  2.0000,  0.0000,  1.0000,  0.0000],\n",
    "        [10.0000,  0.5000,  2.0000,  1.0000,  1.0000,  0.0000],\n",
    "        [12.0000, 23.0000,  1.0000,  0.0000,  0.0000,  0.0000],\n",
    "        [11.0000,  3.9500,  1.0000,  0.0000,  1.0000,  0.0000],\n",
    "        [13.0000,  8.3500,  1.0000,  0.0000,  1.0000,  0.0000],\n",
    "        [14.0000,  0.7800,  2.0000,  1.0000,  1.0000,  0.0000],\n",
    "        [11.0000,  3.6500,  2.0000,  0.0000,  1.0000,  0.0000],\n",
    "        [13.0000,  1.2000,  2.0000,  1.0000,  1.0000,  0.0000]])\n",
    "targets: tensor([[ 4.4300],\n",
    "        [ 9.4000],\n",
    "        [ 0.6500],\n",
    "        [ 8.4000],\n",
    "        [ 5.7000],\n",
    "        [ 0.7400],\n",
    "        [36.2300],\n",
    "        [ 0.5800],\n",
    "        [ 0.9500],\n",
    "        [ 4.1500],\n",
    "        [ 1.4700],\n",
    "        [ 7.7400],\n",
    "        [ 7.5000],\n",
    "        [11.8000],\n",
    "        [ 8.1000],\n",
    "        [ 9.4000],\n",
    "        [ 9.8300],\n",
    "        [ 7.8500],\n",
    "        [13.6000],\n",
    "        [ 5.3500],\n",
    "        [ 4.8900],\n",
    "        [ 9.9000],\n",
    "        [ 1.0500],\n",
    "        [ 0.8700],\n",
    "        [ 6.0500],\n",
    "        [ 1.4700],\n",
    "        [ 0.8400],\n",
    "        [14.8900],\n",
    "        [ 6.8000],\n",
    "        [ 0.5400],\n",
    "        [ 3.4500],\n",
    "        [ 9.9000],\n",
    "        [ 9.4000],\n",
    "        [ 1.2000],\n",
    "        [ 0.8700],\n",
    "        [ 9.4000],\n",
    "        [ 0.9500],\n",
    "        [ 0.5700],\n",
    "        [ 7.7000],\n",
    "        [10.3800],\n",
    "        [ 4.4300],\n",
    "        [ 7.2000],\n",
    "        [ 5.5900],\n",
    "        [ 0.9900],\n",
    "        [30.6100],\n",
    "        [ 6.7600],\n",
    "        [ 9.4000],\n",
    "        [ 0.8400],\n",
    "        [ 7.0000],\n",
    "        [ 1.5000]])"
   ]
  },
  {
   "cell_type": "code",
   "execution_count": null,
   "id": "4142a24e-b6c9-4035-a8c6-dc6a0f38cf9f",
   "metadata": {},
   "outputs": [],
   "source": [
    "input_size = len(input_cols)\n",
    "output_size = len(output_cols)"
   ]
  },
  {
   "cell_type": "code",
   "execution_count": null,
   "id": "74d116a6-c0e2-4ea2-a0b0-c5886a081776",
   "metadata": {},
   "outputs": [],
   "source": [
    "class CarsModel(nn.Module):\n",
    "    def __init__(self):\n",
    "        super().__init__()\n",
    "        self.linear = nn.Linear(input_size, output_size)\n",
    "        \n",
    "    def forward(self, xb):\n",
    "        out = self.linear(xb)\n",
    "        return out\n",
    "    \n",
    "    def training_step(self, batch):\n",
    "        inputs, targets = batch \n",
    "        # Generate predictions\n",
    "        out = self(inputs)          \n",
    "        # Calculate loss\n",
    "        loss = F.l1_loss(out, targets)\n",
    "        return loss\n",
    "    \n",
    "    def validation_step(self, batch):\n",
    "        inputs, targets = batch\n",
    "        # Generate predictions\n",
    "        out = self(inputs)\n",
    "        # Calculate loss\n",
    "        loss = F.l1_loss(out, targets)  \n",
    "        return {'val_loss': loss.detach()}\n",
    "        \n",
    "    def validation_epoch_end(self, outputs):\n",
    "        batch_losses = [x['val_loss'] for x in outputs]\n",
    "        epoch_loss = torch.stack(batch_losses).mean()\n",
    "        return {'val_loss': epoch_loss.item()}\n",
    "    \n",
    "    def epoch_end(self, epoch, result, num_epochs):\n",
    "        # Print result every 20th epoch\n",
    "        if (epoch+1) % 20 == 0 or epoch == num_epochs-1:\n",
    "            print(\"Epoch [{}], val_loss: {:.4f}\".format(epoch+1, result['val_loss']))"
   ]
  },
  {
   "cell_type": "code",
   "execution_count": null,
   "id": "ba12d0d3-a76b-4b92-a539-9bb1b474689b",
   "metadata": {},
   "outputs": [],
   "source": [
    "def evaluate(model, val_loader):\n",
    "    outputs = [model.validation_step(batch) for batch in val_loader]\n",
    "    return model.validation_epoch_end(outputs)\n",
    "\n",
    "def fit(epochs, lr, model, train_loader, val_loader, opt_func=torch.optim.SGD):\n",
    "    history = []\n",
    "    optimizer = opt_func(model.parameters(), lr)\n",
    "    for epoch in range(epochs):\n",
    "        # Training Phase \n",
    "        for batch in train_loader:\n",
    "            loss = model.training_step(batch)\n",
    "            loss.backward()\n",
    "            optimizer.step()\n",
    "            optimizer.zero_grad()\n",
    "        # Validation phase\n",
    "        result = evaluate(model, val_loader)\n",
    "        model.epoch_end(epoch, result, epochs)\n",
    "        history.append(result)\n",
    "    return history"
   ]
  },
  {
   "cell_type": "code",
   "execution_count": null,
   "id": "96dab6c0-594c-4f88-85fc-cc16d055c19d",
   "metadata": {},
   "outputs": [],
   "source": [
    "model = CarsModel()\n",
    "\n",
    "result = evaluate(model, val_loader) # Use the evaluate function\n",
    "print(result)"
   ]
  },
  {
   "cell_type": "raw",
   "id": "3bce6420-59e3-4b28-8d57-703e039f2fb7",
   "metadata": {},
   "source": [
    "{'val_loss': 12.217157363891602}"
   ]
  },
  {
   "cell_type": "code",
   "execution_count": null,
   "id": "22a143b5-034c-42a2-8882-d222a57f2266",
   "metadata": {},
   "outputs": [],
   "source": [
    "epochs = 100\n",
    "lr = 1e-2\n",
    "history1 = fit(epochs, lr, model, train_loader, val_loader)"
   ]
  },
  {
   "cell_type": "raw",
   "id": "e9a422e1-c2c8-4a31-81fb-e7f2235e1cd9",
   "metadata": {},
   "source": [
    "Epoch [20], val_loss: 2.1389\n",
    "Epoch [40], val_loss: 2.1137\n",
    "Epoch [60], val_loss: 2.1475\n",
    "Epoch [80], val_loss: 2.0248\n",
    "Epoch [100], val_loss: 2.0094"
   ]
  },
  {
   "cell_type": "code",
   "execution_count": null,
   "id": "956113d2-48f2-48b0-8a41-a25abb91aeb2",
   "metadata": {},
   "outputs": [],
   "source": [
    "epochs = 100\n",
    "lr = 1e-3\n",
    "history2 = fit(epochs, lr, model, train_loader, val_loader)"
   ]
  },
  {
   "cell_type": "raw",
   "id": "4986fb0c-340e-4c03-a8a4-617f67c7f651",
   "metadata": {},
   "source": [
    "Epoch [20], val_loss: 2.0082\n",
    "Epoch [40], val_loss: 2.0082\n",
    "Epoch [60], val_loss: 2.0075\n",
    "Epoch [80], val_loss: 2.0074\n",
    "Epoch [100], val_loss: 2.0076"
   ]
  },
  {
   "cell_type": "code",
   "execution_count": null,
   "id": "659fcee2-df2c-4d0e-8c69-301d12ff413a",
   "metadata": {},
   "outputs": [],
   "source": [
    "epochs = 100\n",
    "lr = 1e-4\n",
    "history3 = fit(epochs, lr, model, train_loader, val_loader)"
   ]
  },
  {
   "cell_type": "raw",
   "id": "e0290d94-a630-4c7d-8416-ec108df9de60",
   "metadata": {},
   "source": [
    "Epoch [20], val_loss: 2.0085\n",
    "Epoch [40], val_loss: 2.0083\n",
    "Epoch [60], val_loss: 2.0076\n",
    "Epoch [80], val_loss: 2.0079\n",
    "Epoch [100], val_loss: 2.0078"
   ]
  },
  {
   "cell_type": "code",
   "execution_count": null,
   "id": "1e171886-fe67-4287-8cf2-c8a36c39a05c",
   "metadata": {},
   "outputs": [],
   "source": [
    "epochs = 100\n",
    "lr = 1e-5\n",
    "history4 = fit(epochs, lr, model, train_loader, val_loader)"
   ]
  },
  {
   "cell_type": "raw",
   "id": "6181cefb-946a-452b-95ef-81ac39bc725b",
   "metadata": {},
   "source": [
    "Epoch [20], val_loss: 2.0077\n",
    "Epoch [40], val_loss: 2.0075\n",
    "Epoch [60], val_loss: 2.0075\n",
    "Epoch [80], val_loss: 2.0075\n",
    "Epoch [100], val_loss: 2.0074"
   ]
  },
  {
   "cell_type": "code",
   "execution_count": null,
   "id": "f27349fb-4581-46af-85b2-ebda80ee3ce7",
   "metadata": {},
   "outputs": [],
   "source": [
    "epochs = 100\n",
    "lr = 1e-6\n",
    "history5 = fit(epochs, lr, model, train_loader, val_loader)"
   ]
  },
  {
   "cell_type": "raw",
   "id": "a18493ed-d265-49b1-b31e-7032d622e460",
   "metadata": {},
   "source": [
    "Epoch [20], val_loss: 2.0074\n",
    "Epoch [40], val_loss: 2.0074\n",
    "Epoch [60], val_loss: 2.0074\n",
    "Epoch [80], val_loss: 2.0074\n",
    "Epoch [100], val_loss: 2.0074"
   ]
  },
  {
   "cell_type": "code",
   "execution_count": null,
   "id": "d22e227f-af6c-4c54-975b-254c422b721e",
   "metadata": {},
   "outputs": [],
   "source": [
    "val_loss = [result] + history1 + history2 + history3 + history4 + history5\n",
    "print(val_loss)\n",
    "val_loss_list = [vl['val_loss'] for vl in val_loss]\n",
    "\n",
    "plt.plot(val_loss_list, '-x')\n",
    "\n",
    "plt.xlabel('epochs')\n",
    "plt.ylabel('losses')"
   ]
  },
  {
   "attachments": {
    "a3192a3c-4763-4709-8388-82f69c81cb0f.png": {
     "image/png": "[encoded data removed]"
    }
   },
   "cell_type": "raw",
   "id": "c18c6f67-434b-4f10-95d8-a75f0620a671",
   "metadata": {},
   "source": [
    "[{'val_loss': 12.217157363891602}, {'val_loss': 7.620663166046143}, {'val_loss': 5.382066249847412}, {'val_loss': 4.638547420501709}, {'val_loss': 4.087791442871094}, {'val_loss': 3.59946870803833}, {'val_loss': 3.206768751144409}, {'val_loss': 3.0913827419281006}, {'val_loss': 2.7808477878570557}, {'val_loss': 2.632209062576294}, {'val_loss': 2.421461820602417}, {'val_loss': 2.4467031955718994}, {'val_loss': 2.267861843109131}, {'val_loss': 2.234624147415161}, {'val_loss': 2.263246774673462}, {'val_loss': 2.2525668144226074}, {'val_loss': 2.1950292587280273}, {'val_loss': 2.472560167312622}, {'val_loss': 2.1643288135528564}, {'val_loss': 2.1740825176239014}, {'val_loss': 2.138948917388916}, {'val_loss': 2.1302130222320557}, {'val_loss': 2.191289186477661}, {'val_loss': 2.1486642360687256}, {'val_loss': 2.1455581188201904}, {'val_loss': 2.158036231994629}, {'val_loss': 2.099198341369629}, {'val_loss': 2.3999152183532715}, {'val_loss': 2.0908453464508057}, {'val_loss': 2.0948069095611572}, {'val_loss': 2.0914881229400635}, {'val_loss': 2.067286968231201}, {'val_loss': 2.0639848709106445}, {'val_loss': 2.20575213432312}, {'val_loss': 2.0832290649414062}, {'val_loss': 2.164344310760498}, {'val_loss': 2.059605598449707}, {'val_loss': 2.0965332984924316}, {'val_loss': 2.077374219894409}, {'val_loss': 2.058530569076538}, {'val_loss': 2.1136674880981445}, {'val_loss': 2.164543867111206}, {'val_loss': 2.244220733642578}, {'val_loss': 2.3491413593292236}, {'val_loss': 2.057373046875}, {'val_loss': 2.1633191108703613}, {'val_loss': 2.1482622623443604}, {'val_loss': 2.327349901199341}, {'val_loss': 2.2307679653167725}, {'val_loss': 2.05659818649292}, {'val_loss': 2.428478717803955}, {'val_loss': 2.05134916305542}, {'val_loss': 2.0555167198181152}, {'val_loss': 2.0525898933410645}, {'val_loss': 2.043513774871826}, {'val_loss': 2.0335030555725098}, {'val_loss': 2.03202748298645}, {'val_loss': 2.033918857574463}, {'val_loss': 2.050067901611328}, {'val_loss': 2.0785911083221436}, {'val_loss': 2.1475167274475098}, {'val_loss': 2.064263105392456}, {'val_loss': 2.064962863922119}, {'val_loss': 2.0295987129211426}, {'val_loss': 2.0588538646698}, {'val_loss': 2.0991055965423584}, {'val_loss': 2.0768420696258545}, {'val_loss': 2.203280210494995}, {'val_loss': 2.042403221130371}, {'val_loss': 2.14802622795105}, {'val_loss': 2.0297787189483643}, {'val_loss': 2.1316096782684326}, {'val_loss': 2.090207099914551}, {'val_loss': 2.096203327178955}, {'val_loss': 2.02634596824646}, {'val_loss': 2.04565167427063}, {'val_loss': 2.045731782913208}, {'val_loss': 2.0202879905700684}, {'val_loss': 2.0714471340179443}, {'val_loss': 2.4370839595794678}, {'val_loss': 2.0247585773468018}, {'val_loss': 2.067272901535034}, {'val_loss': 2.055293321609497}, {'val_loss': 2.0524892807006836}, {'val_loss': 2.0193753242492676}, {'val_loss': 2.0344645977020264}, {'val_loss': 2.1718695163726807}, {'val_loss': 2.1390273571014404}, {'val_loss': 2.243952989578247}, {'val_loss': 2.031320571899414}, {'val_loss': 2.0771238803863525}, {'val_loss': 2.0242369174957275}, {'val_loss': 2.0522894859313965}, {'val_loss': 2.0313546657562256}, {'val_loss': 2.026663303375244}, {'val_loss': 2.0164737701416016}, {'val_loss': 2.050776243209839}, {'val_loss': 2.0295350551605225}, {'val_loss': 2.0501065254211426}, {'val_loss': 2.030425548553467}, {'val_loss': 2.0094473361968994}, {'val_loss': 2.008798360824585}, {'val_loss': 2.007270097732544}, {'val_loss': 2.006889581680298}, {'val_loss': 2.0075976848602295}, {'val_loss': 2.010241746902466}, {'val_loss': 2.0065736770629883}, {'val_loss': 2.0060746669769287}, {'val_loss': 2.007028818130493}, {'val_loss': 2.007863759994507}, {'val_loss': 2.0083019733428955}, {'val_loss': 2.0132665634155273}, {'val_loss': 2.009514808654785}, {'val_loss': 2.007807970046997}, {'val_loss': 2.0087950229644775}, {'val_loss': 2.0089528560638428}, {'val_loss': 2.008770227432251}, {'val_loss': 2.00779390335083}, {'val_loss': 2.0081491470336914}, {'val_loss': 2.0070924758911133}, {'val_loss': 2.0082404613494873}, {'val_loss': 2.008161783218384}, {'val_loss': 2.0082192420959473}, {'val_loss': 2.008471965789795}, {'val_loss': 2.0095949172973633}, {'val_loss': 2.011740207672119}, {'val_loss': 2.0085949897766113}, {'val_loss': 2.009430408477783}, {'val_loss': 2.009469747543335}, {'val_loss': 2.008275032043457}, {'val_loss': 2.0088915824890137}, {'val_loss': 2.0090839862823486}, {'val_loss': 2.0085525512695312}, {'val_loss': 2.007542371749878}, {'val_loss': 2.0094077587127686}, {'val_loss': 2.007526397705078}, {'val_loss': 2.006967782974243}, {'val_loss': 2.0095813274383545}, {'val_loss': 2.0071754455566406}, {'val_loss': 2.007216453552246}, {'val_loss': 2.0082027912139893}, {'val_loss': 2.008136749267578}, {'val_loss': 2.0076904296875}, {'val_loss': 2.0088789463043213}, {'val_loss': 2.0087029933929443}, {'val_loss': 2.0085597038269043}, {'val_loss': 2.0109336376190186}, {'val_loss': 2.0070760250091553}, {'val_loss': 2.0077974796295166}, {'val_loss': 2.0063722133636475}, {'val_loss': 2.008631944656372}, {'val_loss': 2.0149872303009033}, {'val_loss': 2.007089853286743}, {'val_loss': 2.008822202682495}, {'val_loss': 2.011491298675537}, {'val_loss': 2.008613109588623}, {'val_loss': 2.0123565196990967}, {'val_loss': 2.0080618858337402}, {'val_loss': 2.0075767040252686}, {'val_loss': 2.0092127323150635}, {'val_loss': 2.0075366497039795}, {'val_loss': 2.008134603500366}, {'val_loss': 2.0106301307678223}, {'val_loss': 2.0100090503692627}, {'val_loss': 2.0083706378936768}, {'val_loss': 2.007366180419922}, {'val_loss': 2.0109479427337646}, {'val_loss': 2.007826566696167}, {'val_loss': 2.0090248584747314}, {'val_loss': 2.012901782989502}, {'val_loss': 2.0172977447509766}, {'val_loss': 2.0125555992126465}, {'val_loss': 2.008603811264038}, {'val_loss': 2.009378671646118}, {'val_loss': 2.0085806846618652}, {'val_loss': 2.0089199542999268}, {'val_loss': 2.0084898471832275}, {'val_loss': 2.0075600147247314}, {'val_loss': 2.009230136871338}, {'val_loss': 2.007423162460327}, {'val_loss': 2.00742769241333}, {'val_loss': 2.006438732147217}, {'val_loss': 2.0071425437927246}, {'val_loss': 2.007702589035034}, {'val_loss': 2.0106170177459717}, {'val_loss': 2.00730037689209}, {'val_loss': 2.006725549697876}, {'val_loss': 2.0058982372283936}, {'val_loss': 2.0071423053741455}, {'val_loss': 2.0076000690460205}, {'val_loss': 2.008669137954712}, {'val_loss': 2.015995502471924}, {'val_loss': 2.008789539337158}, {'val_loss': 2.008240222930908}, {'val_loss': 2.00895619392395}, {'val_loss': 2.0097105503082275}, {'val_loss': 2.007751226425171}, {'val_loss': 2.0092859268188477}, {'val_loss': 2.0067403316497803}, {'val_loss': 2.0076701641082764}, {'val_loss': 2.0076382160186768}, {'val_loss': 2.0075788497924805}, {'val_loss': 2.007654905319214}, {'val_loss': 2.0077810287475586}, {'val_loss': 2.0078749656677246}, {'val_loss': 2.0078556537628174}, {'val_loss': 2.007826805114746}, {'val_loss': 2.0078375339508057}, {'val_loss': 2.0078442096710205}, {'val_loss': 2.00787615776062}, {'val_loss': 2.0081794261932373}, {'val_loss': 2.0083696842193604}, {'val_loss': 2.0085699558258057}, {'val_loss': 2.0083720684051514}, {'val_loss': 2.0080971717834473}, {'val_loss': 2.008164405822754}, {'val_loss': 2.0082409381866455}, {'val_loss': 2.0084567070007324}, {'val_loss': 2.0084714889526367}, {'val_loss': 2.008880376815796}, {'val_loss': 2.0085489749908447}, {'val_loss': 2.008816719055176}, {'val_loss': 2.009056329727173}, {'val_loss': 2.008924961090088}, {'val_loss': 2.0088491439819336}, {'val_loss': 2.0085928440093994}, {'val_loss': 2.0086629390716553}, {'val_loss': 2.00822114944458}, {'val_loss': 2.008283853530884}, {'val_loss': 2.008065938949585}, {'val_loss': 2.008225440979004}, {'val_loss': 2.0080246925354004}, {'val_loss': 2.0079729557037354}, {'val_loss': 2.0078351497650146}, {'val_loss': 2.0081679821014404}, {'val_loss': 2.0081019401550293}, {'val_loss': 2.007866859436035}, {'val_loss': 2.007789373397827}, {'val_loss': 2.007920980453491}, {'val_loss': 2.0078063011169434}, {'val_loss': 2.008345603942871}, {'val_loss': 2.0082151889801025}, {'val_loss': 2.007904529571533}, {'val_loss': 2.0080392360687256}, {'val_loss': 2.0078999996185303}, {'val_loss': 2.0076558589935303}, {'val_loss': 2.0075860023498535}, {'val_loss': 2.0077016353607178}, {'val_loss': 2.0076706409454346}, {'val_loss': 2.0077927112579346}, {'val_loss': 2.0076913833618164}, {'val_loss': 2.007859230041504}, {'val_loss': 2.007650136947632}, {'val_loss': 2.0075247287750244}, {'val_loss': 2.0075738430023193}, {'val_loss': 2.007432222366333}, {'val_loss': 2.0074729919433594}, {'val_loss': 2.0074074268341064}, {'val_loss': 2.0074586868286133}, {'val_loss': 2.0075321197509766}, {'val_loss': 2.0075745582580566}, {'val_loss': 2.008000612258911}, {'val_loss': 2.0079362392425537}, {'val_loss': 2.0077567100524902}, {'val_loss': 2.0075523853302}, {'val_loss': 2.007455348968506}, {'val_loss': 2.0075623989105225}, {'val_loss': 2.007688283920288}, {'val_loss': 2.0075414180755615}, {'val_loss': 2.0074656009674072}, {'val_loss': 2.0074331760406494}, {'val_loss': 2.0073866844177246}, {'val_loss': 2.007368326187134}, {'val_loss': 2.0074281692504883}, {'val_loss': 2.0073516368865967}, {'val_loss': 2.0073294639587402}, {'val_loss': 2.0073137283325195}, {'val_loss': 2.0072641372680664}, {'val_loss': 2.007434368133545}, {'val_loss': 2.007636308670044}, {'val_loss': 2.007920503616333}, {'val_loss': 2.0078377723693848}, {'val_loss': 2.007784366607666}, {'val_loss': 2.00768780708313}, {'val_loss': 2.007373809814453}, {'val_loss': 2.0073790550231934}, {'val_loss': 2.0074052810668945}, {'val_loss': 2.007364511489868}, {'val_loss': 2.007394552230835}, {'val_loss': 2.0073678493499756}, {'val_loss': 2.0074212551116943}, {'val_loss': 2.007340908050537}, {'val_loss': 2.007270336151123}, {'val_loss': 2.007430076599121}, {'val_loss': 2.00730037689209}, {'val_loss': 2.007401943206787}, {'val_loss': 2.0077919960021973}, {'val_loss': 2.0080907344818115}, {'val_loss': 2.007866144180298}, {'val_loss': 2.0078299045562744}, {'val_loss': 2.0078234672546387}, {'val_loss': 2.0078437328338623}, {'val_loss': 2.0078415870666504}, {'val_loss': 2.007852792739868}, {'val_loss': 2.0078439712524414}, {'val_loss': 2.0078017711639404}, {'val_loss': 2.007794141769409}, {'val_loss': 2.0078015327453613}, {'val_loss': 2.0078284740448}, {'val_loss': 2.0078134536743164}, {'val_loss': 2.007779836654663}, {'val_loss': 2.00777530670166}, {'val_loss': 2.0077707767486572}, {'val_loss': 2.0077641010284424}, {'val_loss': 2.007758617401123}, {'val_loss': 2.0077767372131348}, {'val_loss': 2.0077385902404785}, {'val_loss': 2.007723093032837}, {'val_loss': 2.00770902633667}, {'val_loss': 2.0077059268951416}, {'val_loss': 2.0076959133148193}, {'val_loss': 2.0076801776885986}, {'val_loss': 2.0076472759246826}, {'val_loss': 2.0075814723968506}, {'val_loss': 2.0075652599334717}, {'val_loss': 2.0075647830963135}, {'val_loss': 2.0075902938842773}, {'val_loss': 2.007565498352051}, {'val_loss': 2.0075430870056152}, {'val_loss': 2.007524013519287}, {'val_loss': 2.007570743560791}, {'val_loss': 2.0075693130493164}, {'val_loss': 2.007542371749878}, {'val_loss': 2.00754976272583}, {'val_loss': 2.007542610168457}, {'val_loss': 2.007537364959717}, {'val_loss': 2.007514238357544}, {'val_loss': 2.007486581802368}, {'val_loss': 2.0074498653411865}, {'val_loss': 2.007460832595825}, {'val_loss': 2.007474660873413}, {'val_loss': 2.0074827671051025}, {'val_loss': 2.007504940032959}, {'val_loss': 2.007533311843872}, {'val_loss': 2.007514238357544}, {'val_loss': 2.0075082778930664}, {'val_loss': 2.00752329826355}, {'val_loss': 2.00752592086792}, {'val_loss': 2.0074918270111084}, {'val_loss': 2.007495403289795}, {'val_loss': 2.0075042247772217}, {'val_loss': 2.007520914077759}, {'val_loss': 2.0074942111968994}, {'val_loss': 2.0074355602264404}, {'val_loss': 2.0074543952941895}, {'val_loss': 2.007444143295288}, {'val_loss': 2.0074448585510254}, {'val_loss': 2.0074775218963623}, {'val_loss': 2.007460355758667}, {'val_loss': 2.007477045059204}, {'val_loss': 2.0075247287750244}, {'val_loss': 2.007538318634033}, {'val_loss': 2.0075199604034424}, {'val_loss': 2.0075128078460693}, {'val_loss': 2.0074832439422607}, {'val_loss': 2.0074846744537354}, {'val_loss': 2.007453680038452}, {'val_loss': 2.007408618927002}, {'val_loss': 2.0074307918548584}, {'val_loss': 2.007424831390381}, {'val_loss': 2.007460355758667}, {'val_loss': 2.0074827671051025}, {'val_loss': 2.007463216781616}, {'val_loss': 2.0074856281280518}, {'val_loss': 2.0074989795684814}, {'val_loss': 2.0074961185455322}, {'val_loss': 2.00746750831604}, {'val_loss': 2.0074961185455322}, {'val_loss': 2.007500171661377}, {'val_loss': 2.007530450820923}, {'val_loss': 2.0075137615203857}, {'val_loss': 2.007507801055908}, {'val_loss': 2.007500171661377}, {'val_loss': 2.00748348236084}, {'val_loss': 2.0074522495269775}, {'val_loss': 2.007457733154297}, {'val_loss': 2.0074551105499268}, {'val_loss': 2.007429838180542}, {'val_loss': 2.0073835849761963}, {'val_loss': 2.0074005126953125}, {'val_loss': 2.0073904991149902}, {'val_loss': 2.007391929626465}, {'val_loss': 2.0073728561401367}, {'val_loss': 2.0074005126953125}, {'val_loss': 2.0074222087860107}, {'val_loss': 2.0074424743652344}, {'val_loss': 2.007434368133545}, {'val_loss': 2.0074305534362793}, {'val_loss': 2.007404088973999}, {'val_loss': 2.007438898086548}, {'val_loss': 2.007420539855957}, {'val_loss': 2.0074172019958496}, {'val_loss': 2.007418155670166}, {'val_loss': 2.007413625717163}, {'val_loss': 2.007416009902954}, {'val_loss': 2.0074145793914795}, {'val_loss': 2.0074057579040527}, {'val_loss': 2.007408618927002}, {'val_loss': 2.0074079036712646}, {'val_loss': 2.007408618927002}, {'val_loss': 2.00740909576416}, {'val_loss': 2.0074105262756348}, {'val_loss': 2.0074121952056885}, {'val_loss': 2.0074095726013184}, {'val_loss': 2.0074093341827393}, {'val_loss': 2.0074098110198975}, {'val_loss': 2.007411479949951}, {'val_loss': 2.00740909576416}, {'val_loss': 2.0074093341827393}, {'val_loss': 2.0074079036712646}, {'val_loss': 2.007404088973999}, {'val_loss': 2.007404327392578}, {'val_loss': 2.0074074268341064}, {'val_loss': 2.0074048042297363}, {'val_loss': 2.0074071884155273}, {'val_loss': 2.007408380508423}, {'val_loss': 2.0074074268341064}, {'val_loss': 2.0074098110198975}, {'val_loss': 2.007413864135742}, {'val_loss': 2.0074121952056885}, {'val_loss': 2.0074117183685303}, {'val_loss': 2.007411241531372}, {'val_loss': 2.0074124336242676}, {'val_loss': 2.0074143409729004}, {'val_loss': 2.0074164867401123}, {'val_loss': 2.007413148880005}, {'val_loss': 2.007415294647217}, {'val_loss': 2.007413387298584}, {'val_loss': 2.007412910461426}, {'val_loss': 2.007412910461426}, {'val_loss': 2.007413148880005}, {'val_loss': 2.00740909576416}, {'val_loss': 2.0074167251586914}, {'val_loss': 2.0074148178100586}, {'val_loss': 2.0074145793914795}, {'val_loss': 2.0074141025543213}, {'val_loss': 2.007415533065796}, {'val_loss': 2.007416009902954}, {'val_loss': 2.007413148880005}, {'val_loss': 2.007411479949951}, {'val_loss': 2.007408380508423}, {'val_loss': 2.007412910461426}, {'val_loss': 2.007412910461426}, {'val_loss': 2.007411241531372}, {'val_loss': 2.007410764694214}, {'val_loss': 2.007411479949951}, {'val_loss': 2.0074121952056885}, {'val_loss': 2.0074121952056885}, {'val_loss': 2.007413148880005}, {'val_loss': 2.007411003112793}, {'val_loss': 2.007411241531372}, {'val_loss': 2.007413387298584}, {'val_loss': 2.0074105262756348}, {'val_loss': 2.00740909576416}, {'val_loss': 2.0074079036712646}, {'val_loss': 2.007410764694214}, {'val_loss': 2.0074117183685303}, {'val_loss': 2.007411241531372}, {'val_loss': 2.007412910461426}, {'val_loss': 2.007416009902954}, {'val_loss': 2.0074174404144287}, {'val_loss': 2.007416009902954}, {'val_loss': 2.0074164867401123}, {'val_loss': 2.007418632507324}, {'val_loss': 2.0074174404144287}, {'val_loss': 2.007420063018799}, {'val_loss': 2.0074217319488525}, {'val_loss': 2.007420778274536}, {'val_loss': 2.007420063018799}, {'val_loss': 2.0074219703674316}, {'val_loss': 2.0074198246002197}, {'val_loss': 2.0074219703674316}, {'val_loss': 2.007422924041748}, {'val_loss': 2.0074236392974854}, {'val_loss': 2.007418632507324}, {'val_loss': 2.007420063018799}, {'val_loss': 2.007418155670166}, {'val_loss': 2.0074167251586914}, {'val_loss': 2.0074172019958496}, {'val_loss': 2.0074148178100586}, {'val_loss': 2.007412910461426}, {'val_loss': 2.007413387298584}, {'val_loss': 2.007413148880005}, {'val_loss': 2.0074117183685303}, {'val_loss': 2.007408857345581}, {'val_loss': 2.0074055194854736}, {'val_loss': 2.0074095726013184}, {'val_loss': 2.0074102878570557}, {'val_loss': 2.0074098110198975}, {'val_loss': 2.007410764694214}, {'val_loss': 2.0074124336242676}]"
   ]
  },
  {
   "attachments": {
    "7a4f4711-7bc5-4b30-8935-8e17057fbbbf.png": {
     "image/png": "[encoded data removed]"
    }
   },
   "cell_type": "markdown",
   "id": "033556eb-2fc5-4a4b-b419-1ecbdd72dc5b",
   "metadata": {},
   "source": [
    "![epoch_vs_loss.png](attachment:7a4f4711-7bc5-4b30-8935-8e17057fbbbf.png)"
   ]
  },
  {
   "cell_type": "code",
   "execution_count": null,
   "id": "655f582c-368a-49df-a530-9b6637aaadad",
   "metadata": {},
   "outputs": [],
   "source": [
    "def predict_single(input, target, model):\n",
    "    inputs = input.unsqueeze(0)\n",
    "    predictions = model(inputs)\n",
    "    prediction = predictions[0].detach()\n",
    "    print(\"Input:\", input)\n",
    "    print(\"Target:\", target)\n",
    "    print(\"Prediction:\", prediction)"
   ]
  },
  {
   "cell_type": "code",
   "execution_count": null,
   "id": "e7aa6890-0091-4f0f-b11a-02b27ba81c9c",
   "metadata": {},
   "outputs": [],
   "source": [
    "input, target = val_ds[0]\n",
    "predict_single(input, target, model)"
   ]
  },
  {
   "cell_type": "raw",
   "id": "0d16b02b-060c-4f7a-9e53-a07a400ee2c3",
   "metadata": {},
   "source": [
    "Input: tensor([11.0000,  4.9500,  1.0000,  0.0000,  1.0000,  0.0000])\n",
    "Target: tensor([7.4900])\n",
    "Prediction: tensor([6.8237])"
   ]
  }
 ],
 "metadata": {
  "kernelspec": {
   "display_name": "Python 3 (ipykernel)",
   "language": "python",
   "name": "python3"
  },
  "language_info": {
   "codemirror_mode": {
    "name": "ipython",
    "version": 3
   },
   "file_extension": ".py",
   "mimetype": "text/x-python",
   "name": "python",
   "nbconvert_exporter": "python",
   "pygments_lexer": "ipython3",
   "version": "3.10.12"
  }
 },
 "nbformat": 4,
 "nbformat_minor": 5
}
