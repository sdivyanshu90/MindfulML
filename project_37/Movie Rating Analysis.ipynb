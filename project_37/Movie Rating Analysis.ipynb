{
 "cells": [
  {
   "cell_type": "code",
   "execution_count": 1,
   "id": "5fa09c01-b88a-4921-a2d9-eb4aa09c1617",
   "metadata": {},
   "outputs": [],
   "source": [
    "import numpy as np\n",
    "import pandas as pd\n",
    "import plotly.express as px"
   ]
  },
  {
   "cell_type": "markdown",
   "id": "a4f7478c-72df-45e3-95fa-e419a8efe451",
   "metadata": {},
   "source": [
    "## Disable Warnings"
   ]
  },
  {
   "cell_type": "code",
   "execution_count": 2,
   "id": "24547c4f-e3ae-4c7b-8c01-b5b7ce3bfa6c",
   "metadata": {},
   "outputs": [],
   "source": [
    "import warnings\n",
    "warnings.filterwarnings(\"ignore\")\n",
    "warnings.simplefilter(\"ignore\")"
   ]
  },
  {
   "cell_type": "markdown",
   "id": "34c58bca-a6d2-4119-bc7f-c30a52cf5438",
   "metadata": {},
   "source": [
    "## Loading Data"
   ]
  },
  {
   "cell_type": "code",
   "execution_count": 3,
   "id": "5c906869-09c1-4d7d-8418-9752f1ab11a4",
   "metadata": {},
   "outputs": [],
   "source": [
    "movies = pd.read_csv(\"movies.dat\", delimiter = \"::\")"
   ]
  },
  {
   "cell_type": "code",
   "execution_count": 4,
   "id": "6720d014-4110-4305-97a3-50c76116512f",
   "metadata": {},
   "outputs": [],
   "source": [
    "movies.columns = [\"ID\", \"Title\", \"Genre\"]"
   ]
  },
  {
   "cell_type": "code",
   "execution_count": 5,
   "id": "911d3ad6-97a9-434a-bb9f-9eff5b2dcf13",
   "metadata": {},
   "outputs": [
    {
     "data": {
      "text/html": [
       "<div>\n",
       "<style scoped>\n",
       "    .dataframe tbody tr th:only-of-type {\n",
       "        vertical-align: middle;\n",
       "    }\n",
       "\n",
       "    .dataframe tbody tr th {\n",
       "        vertical-align: top;\n",
       "    }\n",
       "\n",
       "    .dataframe thead th {\n",
       "        text-align: right;\n",
       "    }\n",
       "</style>\n",
       "<table border=\"1\" class=\"dataframe\">\n",
       "  <thead>\n",
       "    <tr style=\"text-align: right;\">\n",
       "      <th></th>\n",
       "      <th>ID</th>\n",
       "      <th>Title</th>\n",
       "      <th>Genre</th>\n",
       "    </tr>\n",
       "  </thead>\n",
       "  <tbody>\n",
       "    <tr>\n",
       "      <th>0</th>\n",
       "      <td>10</td>\n",
       "      <td>La sortie des usines Lumière (1895)</td>\n",
       "      <td>Documentary|Short</td>\n",
       "    </tr>\n",
       "    <tr>\n",
       "      <th>1</th>\n",
       "      <td>12</td>\n",
       "      <td>The Arrival of a Train (1896)</td>\n",
       "      <td>Documentary|Short</td>\n",
       "    </tr>\n",
       "    <tr>\n",
       "      <th>2</th>\n",
       "      <td>25</td>\n",
       "      <td>The Oxford and Cambridge University Boat Race ...</td>\n",
       "      <td>NaN</td>\n",
       "    </tr>\n",
       "    <tr>\n",
       "      <th>3</th>\n",
       "      <td>91</td>\n",
       "      <td>Le manoir du diable (1896)</td>\n",
       "      <td>Short|Horror</td>\n",
       "    </tr>\n",
       "    <tr>\n",
       "      <th>4</th>\n",
       "      <td>131</td>\n",
       "      <td>Une nuit terrible (1896)</td>\n",
       "      <td>Short|Comedy|Horror</td>\n",
       "    </tr>\n",
       "    <tr>\n",
       "      <th>...</th>\n",
       "      <td>...</td>\n",
       "      <td>...</td>\n",
       "      <td>...</td>\n",
       "    </tr>\n",
       "    <tr>\n",
       "      <th>37336</th>\n",
       "      <td>14499632</td>\n",
       "      <td>22 vs. Earth (2021)</td>\n",
       "      <td>Animation|Short|Adventure</td>\n",
       "    </tr>\n",
       "    <tr>\n",
       "      <th>37337</th>\n",
       "      <td>14527836</td>\n",
       "      <td>Recalled (2021)</td>\n",
       "      <td>Drama|Mystery|Thriller</td>\n",
       "    </tr>\n",
       "    <tr>\n",
       "      <th>37338</th>\n",
       "      <td>14544192</td>\n",
       "      <td>Bo Burnham: Inside (2021)</td>\n",
       "      <td>Comedy|Drama|Music</td>\n",
       "    </tr>\n",
       "    <tr>\n",
       "      <th>37339</th>\n",
       "      <td>14735160</td>\n",
       "      <td>Mum is Pregnant (2021)</td>\n",
       "      <td>NaN</td>\n",
       "    </tr>\n",
       "    <tr>\n",
       "      <th>37340</th>\n",
       "      <td>14740904</td>\n",
       "      <td>Juanes: Origen (2021)</td>\n",
       "      <td>Documentary</td>\n",
       "    </tr>\n",
       "  </tbody>\n",
       "</table>\n",
       "<p>37341 rows × 3 columns</p>\n",
       "</div>"
      ],
      "text/plain": [
       "             ID                                              Title  \\\n",
       "0            10                La sortie des usines Lumière (1895)   \n",
       "1            12                      The Arrival of a Train (1896)   \n",
       "2            25  The Oxford and Cambridge University Boat Race ...   \n",
       "3            91                         Le manoir du diable (1896)   \n",
       "4           131                           Une nuit terrible (1896)   \n",
       "...         ...                                                ...   \n",
       "37336  14499632                                22 vs. Earth (2021)   \n",
       "37337  14527836                                    Recalled (2021)   \n",
       "37338  14544192                          Bo Burnham: Inside (2021)   \n",
       "37339  14735160                             Mum is Pregnant (2021)   \n",
       "37340  14740904                              Juanes: Origen (2021)   \n",
       "\n",
       "                           Genre  \n",
       "0              Documentary|Short  \n",
       "1              Documentary|Short  \n",
       "2                            NaN  \n",
       "3                   Short|Horror  \n",
       "4            Short|Comedy|Horror  \n",
       "...                          ...  \n",
       "37336  Animation|Short|Adventure  \n",
       "37337     Drama|Mystery|Thriller  \n",
       "37338         Comedy|Drama|Music  \n",
       "37339                        NaN  \n",
       "37340                Documentary  \n",
       "\n",
       "[37341 rows x 3 columns]"
      ]
     },
     "execution_count": 5,
     "metadata": {},
     "output_type": "execute_result"
    }
   ],
   "source": [
    "movies"
   ]
  },
  {
   "cell_type": "code",
   "execution_count": 6,
   "id": "be6b421b-b426-43cb-9c05-bc7ae28019aa",
   "metadata": {},
   "outputs": [
    {
     "data": {
      "text/plain": [
       "<bound method NDFrame._add_numeric_operations.<locals>.sum of           ID  Title  Genre\n",
       "0      False  False  False\n",
       "1      False  False  False\n",
       "2      False  False   True\n",
       "3      False  False  False\n",
       "4      False  False  False\n",
       "...      ...    ...    ...\n",
       "37336  False  False  False\n",
       "37337  False  False  False\n",
       "37338  False  False  False\n",
       "37339  False  False   True\n",
       "37340  False  False  False\n",
       "\n",
       "[37341 rows x 3 columns]>"
      ]
     },
     "execution_count": 6,
     "metadata": {},
     "output_type": "execute_result"
    }
   ],
   "source": [
    "movies.isna().sum"
   ]
  },
  {
   "cell_type": "code",
   "execution_count": 7,
   "id": "2062baa8-84f3-4431-ab94-e89653075d5a",
   "metadata": {},
   "outputs": [
    {
     "name": "stdout",
     "output_type": "stream",
     "text": [
      "<class 'pandas.core.frame.DataFrame'>\n",
      "RangeIndex: 37341 entries, 0 to 37340\n",
      "Data columns (total 3 columns):\n",
      " #   Column  Non-Null Count  Dtype \n",
      "---  ------  --------------  ----- \n",
      " 0   ID      37341 non-null  int64 \n",
      " 1   Title   37341 non-null  object\n",
      " 2   Genre   37270 non-null  object\n",
      "dtypes: int64(1), object(2)\n",
      "memory usage: 875.3+ KB\n"
     ]
    }
   ],
   "source": [
    "movies.info()"
   ]
  },
  {
   "cell_type": "code",
   "execution_count": 8,
   "id": "ffe444c4-d6f6-4ca0-8f80-f930e83dd99d",
   "metadata": {},
   "outputs": [
    {
     "data": {
      "text/html": [
       "<div>\n",
       "<style scoped>\n",
       "    .dataframe tbody tr th:only-of-type {\n",
       "        vertical-align: middle;\n",
       "    }\n",
       "\n",
       "    .dataframe tbody tr th {\n",
       "        vertical-align: top;\n",
       "    }\n",
       "\n",
       "    .dataframe thead th {\n",
       "        text-align: right;\n",
       "    }\n",
       "</style>\n",
       "<table border=\"1\" class=\"dataframe\">\n",
       "  <thead>\n",
       "    <tr style=\"text-align: right;\">\n",
       "      <th></th>\n",
       "      <th>ID</th>\n",
       "    </tr>\n",
       "  </thead>\n",
       "  <tbody>\n",
       "    <tr>\n",
       "      <th>count</th>\n",
       "      <td>3.734100e+04</td>\n",
       "    </tr>\n",
       "    <tr>\n",
       "      <th>mean</th>\n",
       "      <td>2.327134e+06</td>\n",
       "    </tr>\n",
       "    <tr>\n",
       "      <th>std</th>\n",
       "      <td>2.767504e+06</td>\n",
       "    </tr>\n",
       "    <tr>\n",
       "      <th>min</th>\n",
       "      <td>1.000000e+01</td>\n",
       "    </tr>\n",
       "    <tr>\n",
       "      <th>25%</th>\n",
       "      <td>1.167450e+05</td>\n",
       "    </tr>\n",
       "    <tr>\n",
       "      <th>50%</th>\n",
       "      <td>1.377575e+06</td>\n",
       "    </tr>\n",
       "    <tr>\n",
       "      <th>75%</th>\n",
       "      <td>3.521148e+06</td>\n",
       "    </tr>\n",
       "    <tr>\n",
       "      <th>max</th>\n",
       "      <td>1.474090e+07</td>\n",
       "    </tr>\n",
       "  </tbody>\n",
       "</table>\n",
       "</div>"
      ],
      "text/plain": [
       "                 ID\n",
       "count  3.734100e+04\n",
       "mean   2.327134e+06\n",
       "std    2.767504e+06\n",
       "min    1.000000e+01\n",
       "25%    1.167450e+05\n",
       "50%    1.377575e+06\n",
       "75%    3.521148e+06\n",
       "max    1.474090e+07"
      ]
     },
     "execution_count": 8,
     "metadata": {},
     "output_type": "execute_result"
    }
   ],
   "source": [
    "movies.describe()"
   ]
  },
  {
   "cell_type": "code",
   "execution_count": 9,
   "id": "74f0c95f-a980-44bf-b75d-13be62e817aa",
   "metadata": {},
   "outputs": [
    {
     "data": {
      "text/plain": [
       "ID        0\n",
       "Title     0\n",
       "Genre    71\n",
       "dtype: int64"
      ]
     },
     "execution_count": 9,
     "metadata": {},
     "output_type": "execute_result"
    }
   ],
   "source": [
    "movies.isnull().sum()"
   ]
  },
  {
   "cell_type": "code",
   "execution_count": 10,
   "id": "f4b3e893-8688-4b5b-8937-7bb87871cbd7",
   "metadata": {},
   "outputs": [],
   "source": [
    "movies = movies.dropna()"
   ]
  },
  {
   "cell_type": "code",
   "execution_count": 11,
   "id": "d895f48e-34ea-422b-99f9-06b8f210ea93",
   "metadata": {},
   "outputs": [],
   "source": [
    "ratings = pd.read_csv(\"ratings.dat\", delimiter = \"::\")"
   ]
  },
  {
   "cell_type": "code",
   "execution_count": 12,
   "id": "98dc2832-c7c7-45df-9ca0-fdd288996353",
   "metadata": {},
   "outputs": [],
   "source": [
    "ratings.columns = [\"User\", \"ID\", \"Ratings\", \"Timestamp\"]"
   ]
  },
  {
   "cell_type": "code",
   "execution_count": 13,
   "id": "3168c49e-1b72-45df-b574-232aa848e799",
   "metadata": {},
   "outputs": [
    {
     "data": {
      "text/html": [
       "<div>\n",
       "<style scoped>\n",
       "    .dataframe tbody tr th:only-of-type {\n",
       "        vertical-align: middle;\n",
       "    }\n",
       "\n",
       "    .dataframe tbody tr th {\n",
       "        vertical-align: top;\n",
       "    }\n",
       "\n",
       "    .dataframe thead th {\n",
       "        text-align: right;\n",
       "    }\n",
       "</style>\n",
       "<table border=\"1\" class=\"dataframe\">\n",
       "  <thead>\n",
       "    <tr style=\"text-align: right;\">\n",
       "      <th></th>\n",
       "      <th>User</th>\n",
       "      <th>ID</th>\n",
       "      <th>Ratings</th>\n",
       "      <th>Timestamp</th>\n",
       "    </tr>\n",
       "  </thead>\n",
       "  <tbody>\n",
       "    <tr>\n",
       "      <th>0</th>\n",
       "      <td>2</td>\n",
       "      <td>499549</td>\n",
       "      <td>9</td>\n",
       "      <td>1376753198</td>\n",
       "    </tr>\n",
       "    <tr>\n",
       "      <th>1</th>\n",
       "      <td>2</td>\n",
       "      <td>1305591</td>\n",
       "      <td>8</td>\n",
       "      <td>1376742507</td>\n",
       "    </tr>\n",
       "    <tr>\n",
       "      <th>2</th>\n",
       "      <td>2</td>\n",
       "      <td>1428538</td>\n",
       "      <td>1</td>\n",
       "      <td>1371307089</td>\n",
       "    </tr>\n",
       "    <tr>\n",
       "      <th>3</th>\n",
       "      <td>3</td>\n",
       "      <td>75314</td>\n",
       "      <td>1</td>\n",
       "      <td>1595468524</td>\n",
       "    </tr>\n",
       "    <tr>\n",
       "      <th>4</th>\n",
       "      <td>3</td>\n",
       "      <td>102926</td>\n",
       "      <td>9</td>\n",
       "      <td>1590148016</td>\n",
       "    </tr>\n",
       "    <tr>\n",
       "      <th>...</th>\n",
       "      <td>...</td>\n",
       "      <td>...</td>\n",
       "      <td>...</td>\n",
       "      <td>...</td>\n",
       "    </tr>\n",
       "    <tr>\n",
       "      <th>906825</th>\n",
       "      <td>70781</td>\n",
       "      <td>9893250</td>\n",
       "      <td>10</td>\n",
       "      <td>1613857551</td>\n",
       "    </tr>\n",
       "    <tr>\n",
       "      <th>906826</th>\n",
       "      <td>70781</td>\n",
       "      <td>9898858</td>\n",
       "      <td>3</td>\n",
       "      <td>1585958452</td>\n",
       "    </tr>\n",
       "    <tr>\n",
       "      <th>906827</th>\n",
       "      <td>70782</td>\n",
       "      <td>172495</td>\n",
       "      <td>10</td>\n",
       "      <td>1587107015</td>\n",
       "    </tr>\n",
       "    <tr>\n",
       "      <th>906828</th>\n",
       "      <td>70782</td>\n",
       "      <td>414387</td>\n",
       "      <td>10</td>\n",
       "      <td>1587107852</td>\n",
       "    </tr>\n",
       "    <tr>\n",
       "      <th>906829</th>\n",
       "      <td>70783</td>\n",
       "      <td>1623205</td>\n",
       "      <td>6</td>\n",
       "      <td>1362832655</td>\n",
       "    </tr>\n",
       "  </tbody>\n",
       "</table>\n",
       "<p>906830 rows × 4 columns</p>\n",
       "</div>"
      ],
      "text/plain": [
       "         User       ID  Ratings   Timestamp\n",
       "0           2   499549        9  1376753198\n",
       "1           2  1305591        8  1376742507\n",
       "2           2  1428538        1  1371307089\n",
       "3           3    75314        1  1595468524\n",
       "4           3   102926        9  1590148016\n",
       "...       ...      ...      ...         ...\n",
       "906825  70781  9893250       10  1613857551\n",
       "906826  70781  9898858        3  1585958452\n",
       "906827  70782   172495       10  1587107015\n",
       "906828  70782   414387       10  1587107852\n",
       "906829  70783  1623205        6  1362832655\n",
       "\n",
       "[906830 rows x 4 columns]"
      ]
     },
     "execution_count": 13,
     "metadata": {},
     "output_type": "execute_result"
    }
   ],
   "source": [
    "ratings"
   ]
  },
  {
   "cell_type": "code",
   "execution_count": 14,
   "id": "882e7179-3394-4b98-b403-2e9848583bd2",
   "metadata": {},
   "outputs": [
    {
     "name": "stdout",
     "output_type": "stream",
     "text": [
      "<class 'pandas.core.frame.DataFrame'>\n",
      "RangeIndex: 906830 entries, 0 to 906829\n",
      "Data columns (total 4 columns):\n",
      " #   Column     Non-Null Count   Dtype\n",
      "---  ------     --------------   -----\n",
      " 0   User       906830 non-null  int64\n",
      " 1   ID         906830 non-null  int64\n",
      " 2   Ratings    906830 non-null  int64\n",
      " 3   Timestamp  906830 non-null  int64\n",
      "dtypes: int64(4)\n",
      "memory usage: 27.7 MB\n"
     ]
    }
   ],
   "source": [
    "ratings.info()"
   ]
  },
  {
   "cell_type": "code",
   "execution_count": 15,
   "id": "0e7f22b5-d354-4117-8730-67d8bb668d13",
   "metadata": {},
   "outputs": [
    {
     "data": {
      "text/html": [
       "<div>\n",
       "<style scoped>\n",
       "    .dataframe tbody tr th:only-of-type {\n",
       "        vertical-align: middle;\n",
       "    }\n",
       "\n",
       "    .dataframe tbody tr th {\n",
       "        vertical-align: top;\n",
       "    }\n",
       "\n",
       "    .dataframe thead th {\n",
       "        text-align: right;\n",
       "    }\n",
       "</style>\n",
       "<table border=\"1\" class=\"dataframe\">\n",
       "  <thead>\n",
       "    <tr style=\"text-align: right;\">\n",
       "      <th></th>\n",
       "      <th>User</th>\n",
       "      <th>ID</th>\n",
       "      <th>Ratings</th>\n",
       "      <th>Timestamp</th>\n",
       "    </tr>\n",
       "  </thead>\n",
       "  <tbody>\n",
       "    <tr>\n",
       "      <th>count</th>\n",
       "      <td>906830.000000</td>\n",
       "      <td>9.068300e+05</td>\n",
       "      <td>906830.000000</td>\n",
       "      <td>9.068300e+05</td>\n",
       "    </tr>\n",
       "    <tr>\n",
       "      <th>mean</th>\n",
       "      <td>35597.089417</td>\n",
       "      <td>2.239038e+06</td>\n",
       "      <td>7.315742</td>\n",
       "      <td>1.462485e+09</td>\n",
       "    </tr>\n",
       "    <tr>\n",
       "      <th>std</th>\n",
       "      <td>20522.966156</td>\n",
       "      <td>2.122506e+06</td>\n",
       "      <td>1.852980</td>\n",
       "      <td>7.182300e+07</td>\n",
       "    </tr>\n",
       "    <tr>\n",
       "      <th>min</th>\n",
       "      <td>2.000000</td>\n",
       "      <td>8.000000e+00</td>\n",
       "      <td>0.000000</td>\n",
       "      <td>1.362062e+09</td>\n",
       "    </tr>\n",
       "    <tr>\n",
       "      <th>25%</th>\n",
       "      <td>18147.000000</td>\n",
       "      <td>7.650100e+05</td>\n",
       "      <td>6.000000</td>\n",
       "      <td>1.397069e+09</td>\n",
       "    </tr>\n",
       "    <tr>\n",
       "      <th>50%</th>\n",
       "      <td>35396.000000</td>\n",
       "      <td>1.723121e+06</td>\n",
       "      <td>8.000000</td>\n",
       "      <td>1.451972e+09</td>\n",
       "    </tr>\n",
       "    <tr>\n",
       "      <th>75%</th>\n",
       "      <td>53034.000000</td>\n",
       "      <td>2.938956e+06</td>\n",
       "      <td>9.000000</td>\n",
       "      <td>1.518231e+09</td>\n",
       "    </tr>\n",
       "    <tr>\n",
       "      <th>max</th>\n",
       "      <td>70783.000000</td>\n",
       "      <td>1.474090e+07</td>\n",
       "      <td>10.000000</td>\n",
       "      <td>1.623118e+09</td>\n",
       "    </tr>\n",
       "  </tbody>\n",
       "</table>\n",
       "</div>"
      ],
      "text/plain": [
       "                User            ID        Ratings     Timestamp\n",
       "count  906830.000000  9.068300e+05  906830.000000  9.068300e+05\n",
       "mean    35597.089417  2.239038e+06       7.315742  1.462485e+09\n",
       "std     20522.966156  2.122506e+06       1.852980  7.182300e+07\n",
       "min         2.000000  8.000000e+00       0.000000  1.362062e+09\n",
       "25%     18147.000000  7.650100e+05       6.000000  1.397069e+09\n",
       "50%     35396.000000  1.723121e+06       8.000000  1.451972e+09\n",
       "75%     53034.000000  2.938956e+06       9.000000  1.518231e+09\n",
       "max     70783.000000  1.474090e+07      10.000000  1.623118e+09"
      ]
     },
     "execution_count": 15,
     "metadata": {},
     "output_type": "execute_result"
    }
   ],
   "source": [
    "ratings.describe()"
   ]
  },
  {
   "cell_type": "code",
   "execution_count": 16,
   "id": "fcdf14f1-a3df-4bca-bbf0-9236353b2394",
   "metadata": {},
   "outputs": [
    {
     "data": {
      "text/plain": [
       "<bound method NDFrame._add_numeric_operations.<locals>.sum of          User     ID  Ratings  Timestamp\n",
       "0       False  False    False      False\n",
       "1       False  False    False      False\n",
       "2       False  False    False      False\n",
       "3       False  False    False      False\n",
       "4       False  False    False      False\n",
       "...       ...    ...      ...        ...\n",
       "906825  False  False    False      False\n",
       "906826  False  False    False      False\n",
       "906827  False  False    False      False\n",
       "906828  False  False    False      False\n",
       "906829  False  False    False      False\n",
       "\n",
       "[906830 rows x 4 columns]>"
      ]
     },
     "execution_count": 16,
     "metadata": {},
     "output_type": "execute_result"
    }
   ],
   "source": [
    "ratings.isna().sum"
   ]
  },
  {
   "cell_type": "code",
   "execution_count": 17,
   "id": "50ac4f88-c78b-4681-876f-553454f21354",
   "metadata": {},
   "outputs": [
    {
     "data": {
      "text/plain": [
       "User         0\n",
       "ID           0\n",
       "Ratings      0\n",
       "Timestamp    0\n",
       "dtype: int64"
      ]
     },
     "execution_count": 17,
     "metadata": {},
     "output_type": "execute_result"
    }
   ],
   "source": [
    "ratings.isnull().sum()"
   ]
  },
  {
   "cell_type": "code",
   "execution_count": 19,
   "id": "7703be2c-452f-435e-aad6-b19d271b005e",
   "metadata": {},
   "outputs": [
    {
     "name": "stdout",
     "output_type": "stream",
     "text": [
      "   ID                                Title              Genre   User  Ratings  \\\n",
      "0  10  La sortie des usines Lumière (1895)  Documentary|Short  70577       10   \n",
      "1  12        The Arrival of a Train (1896)  Documentary|Short  69535       10   \n",
      "2  91           Le manoir du diable (1896)       Short|Horror   5814        6   \n",
      "3  91           Le manoir du diable (1896)       Short|Horror  37239        5   \n",
      "4  91           Le manoir du diable (1896)       Short|Horror  54465        7   \n",
      "\n",
      "    Timestamp  \n",
      "0  1412878553  \n",
      "1  1439248579  \n",
      "2  1385233195  \n",
      "3  1532347349  \n",
      "4  1562928526  \n"
     ]
    }
   ],
   "source": [
    "data = pd.merge(movies, ratings, on=[\"ID\", \"ID\"])\n",
    "print(data.head())"
   ]
  },
  {
   "cell_type": "code",
   "execution_count": 20,
   "id": "919e4977-1ab2-40ef-bf9e-1b2ba3ef1cda",
   "metadata": {},
   "outputs": [],
   "source": [
    "ratings = data[\"Ratings\"].value_counts()\n",
    "numbers = ratings.index\n",
    "quantity = ratings.values"
   ]
  },
  {
   "cell_type": "code",
   "execution_count": null,
   "id": "640c607e-0918-4871-a55b-4232f6b71d05",
   "metadata": {},
   "outputs": [],
   "source": []
  }
 ],
 "metadata": {
  "kernelspec": {
   "display_name": "Python 3 (ipykernel)",
   "language": "python",
   "name": "python3"
  },
  "language_info": {
   "codemirror_mode": {
    "name": "ipython",
    "version": 3
   },
   "file_extension": ".py",
   "mimetype": "text/x-python",
   "name": "python",
   "nbconvert_exporter": "python",
   "pygments_lexer": "ipython3",
   "version": "3.10.12"
  }
 },
 "nbformat": 4,
 "nbformat_minor": 5
}
