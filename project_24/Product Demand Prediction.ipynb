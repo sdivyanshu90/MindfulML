{
 "cells": [
  {
   "cell_type": "code",
   "execution_count": null,
   "id": "3461a327-ca00-4115-aa7e-10db54e51d0d",
   "metadata": {},
   "outputs": [],
   "source": [
    "import pandas as pd\n",
    "import numpy as np\n",
    "import matplotlib.pyplot as plt\n",
    "import plotly.express as px\n",
    "import seaborn as sns\n",
    "from sklearn.tree import DecisionTreeRegressor\n",
    "from sklearn.model_selection import train_test_split\n",
    "from sklearn.ensemble import RandomForestRegressor"
   ]
  },
  {
   "cell_type": "code",
   "execution_count": null,
   "id": "bf5993d8-2ac3-4290-bdbd-c57f45d44fc6",
   "metadata": {},
   "outputs": [],
   "source": [
    "import warnings\n",
    "warnings.filterwarnings(\"ignore\")\n",
    "warnings.simplefilter(\"ignore\")"
   ]
  },
  {
   "cell_type": "code",
   "execution_count": null,
   "id": "747fcec8-07b1-45f4-8dfe-e02a99c9e33d",
   "metadata": {},
   "outputs": [],
   "source": [
    "data = pd.read_csv(\"demand.csv\")"
   ]
  },
  {
   "cell_type": "code",
   "execution_count": null,
   "id": "8da56928-fcb3-44c7-a302-53b737e5466f",
   "metadata": {},
   "outputs": [],
   "source": [
    "data"
   ]
  },
  {
   "cell_type": "code",
   "execution_count": null,
   "id": "1188faab-102f-4417-9f80-6906cbac082e",
   "metadata": {},
   "outputs": [],
   "source": [
    "data.isnull().any()"
   ]
  },
  {
   "cell_type": "code",
   "execution_count": null,
   "id": "e251804c-b836-4b20-a643-91fee16e9589",
   "metadata": {},
   "outputs": [],
   "source": [
    "data.describe()"
   ]
  },
  {
   "cell_type": "code",
   "execution_count": null,
   "id": "b7252be4-4f99-4b32-b3ef-52658aa6a1ea",
   "metadata": {},
   "outputs": [],
   "source": [
    "data.info()"
   ]
  },
  {
   "cell_type": "code",
   "execution_count": null,
   "id": "a4863fcc-627e-4bfe-b680-092bb6fd5c95",
   "metadata": {},
   "outputs": [],
   "source": [
    "data.isnull().sum()"
   ]
  },
  {
   "cell_type": "code",
   "execution_count": null,
   "id": "1a8c0d2a-b9f4-4948-9ce0-ca48522ad64e",
   "metadata": {},
   "outputs": [],
   "source": [
    "data = data.dropna()"
   ]
  },
  {
   "cell_type": "code",
   "execution_count": null,
   "id": "d9337889-ae08-47ec-8317-e932286e9dd2",
   "metadata": {},
   "outputs": [],
   "source": [
    "figure = px.scatter(data,\n",
    "                   x = \"Units Sold\",\n",
    "                   y = \"Total Price\",\n",
    "                   size = \"Units Sold\")\n",
    "figure.show()"
   ]
  },
  {
   "cell_type": "code",
   "execution_count": null,
   "id": "bf7adde3-446a-4206-90f6-f339e3f5649d",
   "metadata": {},
   "outputs": [],
   "source": [
    "correlations = data.corr(method = \"pearson\")\n",
    "plt.figure(figsize = (10, 10))\n",
    "sns.heatmap(correlations, cmap=\"coolwarm\", annot = True)\n",
    "plt.show()"
   ]
  },
  {
   "cell_type": "code",
   "execution_count": null,
   "id": "da88eae4-7343-4de6-86c7-b6d26f8942de",
   "metadata": {},
   "outputs": [],
   "source": [
    "x = np.array(data[[\"Total Price\", \"Base Price\"]])\n",
    "y = np.array(data[\"Units Sold\"])"
   ]
  },
  {
   "cell_type": "code",
   "execution_count": null,
   "id": "e66e24e9-1e20-40c6-8fc2-05e8980b77ae",
   "metadata": {},
   "outputs": [],
   "source": [
    "xtrain, xtest, ytrain, ytest = train_test_split(x,\n",
    "                                               y,\n",
    "                                               test_size=0.3,\n",
    "                                               random_state=42)"
   ]
  },
  {
   "cell_type": "code",
   "execution_count": null,
   "id": "f6f9e673-2a8a-4539-9df3-2878cd4f4a75",
   "metadata": {},
   "outputs": [],
   "source": [
    "model = DecisionTreeRegressor()\n",
    "model.fit(xtrain, ytrain)\n",
    "model.score(xtrain, ytrain)"
   ]
  },
  {
   "cell_type": "code",
   "execution_count": null,
   "id": "458ab8e5-a48f-413e-8e47-5cde70ff1d2b",
   "metadata": {},
   "outputs": [],
   "source": [
    "features = [[133.00, 140.00]]\n",
    "model.predict(features)[0]"
   ]
  }
 ],
 "metadata": {
  "kernelspec": {
   "display_name": "Python 3 (ipykernel)",
   "language": "python",
   "name": "python3"
  },
  "language_info": {
   "codemirror_mode": {
    "name": "ipython",
    "version": 3
   },
   "file_extension": ".py",
   "mimetype": "text/x-python",
   "name": "python",
   "nbconvert_exporter": "python",
   "pygments_lexer": "ipython3",
   "version": "3.10.12"
  }
 },
 "nbformat": 4,
 "nbformat_minor": 5
}
