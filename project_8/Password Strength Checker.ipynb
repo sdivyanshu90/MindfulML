{
 "cells": [
  {
   "cell_type": "code",
   "execution_count": 1,
   "id": "b2441937-7b13-4558-bc5f-87c17de95e90",
   "metadata": {},
   "outputs": [
    {
     "name": "stdout",
     "output_type": "stream",
     "text": [
      "Successfully Imported Library\n"
     ]
    }
   ],
   "source": [
    "import pandas as pd\n",
    "import numpy as np\n",
    "from sklearn.feature_extraction.text import CountVectorizer\n",
    "from sklearn.feature_extraction.text import TfidfVectorizer\n",
    "from sklearn.model_selection import train_test_split\n",
    "from sklearn.ensemble import RandomForestClassifier\n",
    "from sklearn.tree import DecisionTreeClassifier\n",
    "import getpass as gp\n",
    "\n",
    "import warnings\n",
    "warnings.filterwarnings(\"ignore\")\n",
    "warnings.simplefilter(\"ignore\")\n",
    "print(\"Successfully Imported Library\")"
   ]
  },
  {
   "cell_type": "code",
   "execution_count": 2,
   "id": "f0d71013-cb2a-4086-a66c-c22358400795",
   "metadata": {},
   "outputs": [],
   "source": [
    "data = pd.read_csv(\"password_data.csv\", on_bad_lines = 'skip')"
   ]
  },
  {
   "cell_type": "code",
   "execution_count": 3,
   "id": "87d9b86e-7851-4cac-a959-210371390582",
   "metadata": {},
   "outputs": [
    {
     "data": {
      "text/html": [
       "<div>\n",
       "<style scoped>\n",
       "    .dataframe tbody tr th:only-of-type {\n",
       "        vertical-align: middle;\n",
       "    }\n",
       "\n",
       "    .dataframe tbody tr th {\n",
       "        vertical-align: top;\n",
       "    }\n",
       "\n",
       "    .dataframe thead th {\n",
       "        text-align: right;\n",
       "    }\n",
       "</style>\n",
       "<table border=\"1\" class=\"dataframe\">\n",
       "  <thead>\n",
       "    <tr style=\"text-align: right;\">\n",
       "      <th></th>\n",
       "      <th>password</th>\n",
       "      <th>strength</th>\n",
       "    </tr>\n",
       "  </thead>\n",
       "  <tbody>\n",
       "    <tr>\n",
       "      <th>0</th>\n",
       "      <td>kzde5577</td>\n",
       "      <td>1</td>\n",
       "    </tr>\n",
       "    <tr>\n",
       "      <th>1</th>\n",
       "      <td>kino3434</td>\n",
       "      <td>1</td>\n",
       "    </tr>\n",
       "    <tr>\n",
       "      <th>2</th>\n",
       "      <td>visi7k1yr</td>\n",
       "      <td>1</td>\n",
       "    </tr>\n",
       "    <tr>\n",
       "      <th>3</th>\n",
       "      <td>megzy123</td>\n",
       "      <td>1</td>\n",
       "    </tr>\n",
       "    <tr>\n",
       "      <th>4</th>\n",
       "      <td>lamborghin1</td>\n",
       "      <td>1</td>\n",
       "    </tr>\n",
       "    <tr>\n",
       "      <th>...</th>\n",
       "      <td>...</td>\n",
       "      <td>...</td>\n",
       "    </tr>\n",
       "    <tr>\n",
       "      <th>669635</th>\n",
       "      <td>10redtux10</td>\n",
       "      <td>1</td>\n",
       "    </tr>\n",
       "    <tr>\n",
       "      <th>669636</th>\n",
       "      <td>infrared1</td>\n",
       "      <td>1</td>\n",
       "    </tr>\n",
       "    <tr>\n",
       "      <th>669637</th>\n",
       "      <td>184520socram</td>\n",
       "      <td>1</td>\n",
       "    </tr>\n",
       "    <tr>\n",
       "      <th>669638</th>\n",
       "      <td>marken22a</td>\n",
       "      <td>1</td>\n",
       "    </tr>\n",
       "    <tr>\n",
       "      <th>669639</th>\n",
       "      <td>fxx4pw4g</td>\n",
       "      <td>1</td>\n",
       "    </tr>\n",
       "  </tbody>\n",
       "</table>\n",
       "<p>669640 rows × 2 columns</p>\n",
       "</div>"
      ],
      "text/plain": [
       "            password  strength\n",
       "0           kzde5577         1\n",
       "1           kino3434         1\n",
       "2          visi7k1yr         1\n",
       "3           megzy123         1\n",
       "4        lamborghin1         1\n",
       "...              ...       ...\n",
       "669635    10redtux10         1\n",
       "669636     infrared1         1\n",
       "669637  184520socram         1\n",
       "669638     marken22a         1\n",
       "669639      fxx4pw4g         1\n",
       "\n",
       "[669640 rows x 2 columns]"
      ]
     },
     "execution_count": 3,
     "metadata": {},
     "output_type": "execute_result"
    }
   ],
   "source": [
    "data"
   ]
  },
  {
   "cell_type": "code",
   "execution_count": 4,
   "id": "99f9a41a-fcc5-4908-9d6e-0ac2dde2f9da",
   "metadata": {},
   "outputs": [
    {
     "data": {
      "text/plain": [
       "password     True\n",
       "strength    False\n",
       "dtype: bool"
      ]
     },
     "execution_count": 4,
     "metadata": {},
     "output_type": "execute_result"
    }
   ],
   "source": [
    "data.isnull().any()"
   ]
  },
  {
   "cell_type": "code",
   "execution_count": 5,
   "id": "768ec1b7-e399-48d5-9404-058747dca87c",
   "metadata": {},
   "outputs": [],
   "source": [
    "data = data.dropna()"
   ]
  },
  {
   "cell_type": "code",
   "execution_count": 6,
   "id": "eee011f6-604c-4a18-be4a-a3601a0445b4",
   "metadata": {},
   "outputs": [
    {
     "data": {
      "text/html": [
       "<div>\n",
       "<style scoped>\n",
       "    .dataframe tbody tr th:only-of-type {\n",
       "        vertical-align: middle;\n",
       "    }\n",
       "\n",
       "    .dataframe tbody tr th {\n",
       "        vertical-align: top;\n",
       "    }\n",
       "\n",
       "    .dataframe thead th {\n",
       "        text-align: right;\n",
       "    }\n",
       "</style>\n",
       "<table border=\"1\" class=\"dataframe\">\n",
       "  <thead>\n",
       "    <tr style=\"text-align: right;\">\n",
       "      <th></th>\n",
       "      <th>password</th>\n",
       "      <th>strength</th>\n",
       "    </tr>\n",
       "  </thead>\n",
       "  <tbody>\n",
       "    <tr>\n",
       "      <th>543630</th>\n",
       "      <td>D4y4n4o5o4i989</td>\n",
       "      <td>Strong</td>\n",
       "    </tr>\n",
       "    <tr>\n",
       "      <th>176052</th>\n",
       "      <td>qfcpfb2dqg</td>\n",
       "      <td>Moderate</td>\n",
       "    </tr>\n",
       "    <tr>\n",
       "      <th>237715</th>\n",
       "      <td>63736373a</td>\n",
       "      <td>Moderate</td>\n",
       "    </tr>\n",
       "    <tr>\n",
       "      <th>486699</th>\n",
       "      <td>we0112</td>\n",
       "      <td>Weak</td>\n",
       "    </tr>\n",
       "    <tr>\n",
       "      <th>195774</th>\n",
       "      <td>fkvrcin15</td>\n",
       "      <td>Moderate</td>\n",
       "    </tr>\n",
       "    <tr>\n",
       "      <th>250701</th>\n",
       "      <td>thienthu78</td>\n",
       "      <td>Moderate</td>\n",
       "    </tr>\n",
       "    <tr>\n",
       "      <th>346738</th>\n",
       "      <td>xll56yljppu6</td>\n",
       "      <td>Moderate</td>\n",
       "    </tr>\n",
       "    <tr>\n",
       "      <th>190808</th>\n",
       "      <td>DYseXImoPYr957</td>\n",
       "      <td>Strong</td>\n",
       "    </tr>\n",
       "    <tr>\n",
       "      <th>245774</th>\n",
       "      <td>josyw405</td>\n",
       "      <td>Moderate</td>\n",
       "    </tr>\n",
       "    <tr>\n",
       "      <th>74170</th>\n",
       "      <td>iz6lo8i</td>\n",
       "      <td>Weak</td>\n",
       "    </tr>\n",
       "  </tbody>\n",
       "</table>\n",
       "</div>"
      ],
      "text/plain": [
       "              password  strength\n",
       "543630  D4y4n4o5o4i989    Strong\n",
       "176052      qfcpfb2dqg  Moderate\n",
       "237715       63736373a  Moderate\n",
       "486699          we0112      Weak\n",
       "195774       fkvrcin15  Moderate\n",
       "250701      thienthu78  Moderate\n",
       "346738    xll56yljppu6  Moderate\n",
       "190808  DYseXImoPYr957    Strong\n",
       "245774        josyw405  Moderate\n",
       "74170          iz6lo8i      Weak"
      ]
     },
     "execution_count": 6,
     "metadata": {},
     "output_type": "execute_result"
    }
   ],
   "source": [
    "data.strength = data.strength.map({0:\"Weak\", 1:\"Moderate\", 2:\"Strong\"})\n",
    "data.sample(10)"
   ]
  },
  {
   "cell_type": "code",
   "execution_count": 7,
   "id": "bfb4341a-19d0-4122-add3-bcd884e5373c",
   "metadata": {},
   "outputs": [],
   "source": [
    "def word(password):\n",
    "    char = []\n",
    "    for i in password:\n",
    "        char.append(i)\n",
    "    return char\n",
    "\n",
    "x = np.array(data[\"password\"])\n",
    "y = np.array(data[\"strength\"])"
   ]
  },
  {
   "cell_type": "code",
   "execution_count": 8,
   "id": "7d8ec00c-116b-4b76-99a3-9a7381929c3c",
   "metadata": {},
   "outputs": [],
   "source": [
    "tdif = TfidfVectorizer(tokenizer=word)\n",
    "x = tdif.fit_transform(x)"
   ]
  },
  {
   "cell_type": "code",
   "execution_count": 9,
   "id": "af5fba7f-ed68-4d8b-bb20-d7ca2705d53a",
   "metadata": {},
   "outputs": [],
   "source": [
    "xtrain, xtest, ytrain, ytest = train_test_split(x,\n",
    "                                                y,\n",
    "                                                test_size = 0.05,\n",
    "                                                random_state = 42)"
   ]
  },
  {
   "cell_type": "code",
   "execution_count": 10,
   "id": "6277a1f4-a47a-4a86-9e4e-98bca606b5ed",
   "metadata": {},
   "outputs": [
    {
     "data": {
      "text/plain": [
       "0.9997296264915736"
      ]
     },
     "execution_count": 10,
     "metadata": {},
     "output_type": "execute_result"
    }
   ],
   "source": [
    "rf_model = RandomForestClassifier()\n",
    "rf_model.fit(xtrain, ytrain)\n",
    "rf_model.score(xtrain, ytrain)"
   ]
  },
  {
   "cell_type": "code",
   "execution_count": 11,
   "id": "8f7e6537-28ed-4f5e-b3e2-16e9ab05a993",
   "metadata": {},
   "outputs": [
    {
     "data": {
      "text/plain": [
       "0.9997296264915736"
      ]
     },
     "execution_count": 11,
     "metadata": {},
     "output_type": "execute_result"
    }
   ],
   "source": [
    "dt_model = DecisionTreeClassifier()\n",
    "dt_model.fit(xtrain, ytrain)\n",
    "dt_model.score(xtrain, ytrain)"
   ]
  },
  {
   "cell_type": "code",
   "execution_count": 12,
   "id": "8a22bda4-eba7-4b32-870c-690931e38f2c",
   "metadata": {},
   "outputs": [
    {
     "name": "stdin",
     "output_type": "stream",
     "text": [
      "Enter Password:  ········\n"
     ]
    },
    {
     "name": "stdout",
     "output_type": "stream",
     "text": [
      "RandomForestClassifier: ['Weak']\n",
      "DecisionTreeClassifier: ['Weak']\n"
     ]
    }
   ],
   "source": [
    "user = gp.getpass(\"Enter Password: \")\n",
    "data = tdif.transform([user]).toarray()\n",
    "rf_output = rf_model.predict(data)\n",
    "dt_output = dt_model.predict(data)\n",
    "print(f\"RandomForestClassifier: {rf_output}\")\n",
    "print(f\"DecisionTreeClassifier: {dt_output}\")"
   ]
  }
 ],
 "metadata": {
  "kernelspec": {
   "display_name": "Python 3 (ipykernel)",
   "language": "python",
   "name": "python3"
  },
  "language_info": {
   "codemirror_mode": {
    "name": "ipython",
    "version": 3
   },
   "file_extension": ".py",
   "mimetype": "text/x-python",
   "name": "python",
   "nbconvert_exporter": "python",
   "pygments_lexer": "ipython3",
   "version": "3.10.12"
  }
 },
 "nbformat": 4,
 "nbformat_minor": 5
}
